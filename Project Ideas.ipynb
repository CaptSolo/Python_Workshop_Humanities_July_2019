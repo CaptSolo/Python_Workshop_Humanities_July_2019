{
 "cells": [
  {
   "cell_type": "markdown",
   "metadata": {},
   "source": [
    "# Project Ideas\n",
    "\n",
    "## Beginner programs\n",
    "* 99 Bottles of Beer Program\n",
    "* Mad Libs story program\n",
    "Thank you www.reddit.com/r/learnpython for the above 2 ideas!\n",
    "\n",
    "## More advanced programs\n",
    "* Perform stylometrics analysis\n",
    "* Process data from Web using JSON API\n",
    "* Build a text Summarizer"
   ]
  },
  {
   "cell_type": "markdown",
   "metadata": {},
   "source": [
    "### 99 Bottles of Beer Program GOAL\n",
    "\n",
    "Create a program that prints out every line to the song \"99 bottles of beer on the wall.\" This should be a pretty simple program, so to make it a bit harder, here are some rules to follow.\n",
    "\n",
    "###  RULES\n",
    "\n",
    "1. If you are going to use a list for all of the numbers, do not manually type them all in. Instead, use a built in function.\n",
    "\n",
    "2. Besides the phrase \"take one down,\" you may not type in any numbers/names of numbers directly into your song lyrics.\n",
    "\n",
    "3. Remember, when you reach 1 bottle left, the word \"bottles\" becomes singular.\n",
    "\n",
    "4. Put a blank line between each verse of the song."
   ]
  },
  {
   "cell_type": "markdown",
   "metadata": {},
   "source": [
    "## Mad Libs Program Rules\n",
    "## Background\n",
    "\n",
    "Ever played Mad Libs? If you haven't, here's the basic's of it.\n",
    "\n",
    "\"Mad Libs consist of a book that has a short story on each page with many key words replaced with blanks. Beneath each blank is specified a lexical or other category, such as \"noun\", \"verb\", \"place\", or \"part of the body\".[10] One player asks the other players, in turn, to contribute some word for the specified type for each blank, but without revealing the context for that word. Finally, the completed story is read aloud. The result is usually comic, surreal and somewhat nonsensical.\"\n",
    "\n",
    "## Goal\n",
    "\n",
    "Create a Mad Libs style game, where the program asks the user for certain types of words, and then prints out a story with the words that the user inputted. The story doesn't have to be too long, but it should have some sort of story line.\n",
    "\n",
    "Tip - It's easiest to write out a quick story on a piece of paper or a word document, and then go back through and see which words the user should be able to change.\n",
    "\n",
    "## Subgoals\n",
    "\n",
    "If the user has to put in a name, change the first letter to a capital letter.\n",
    "\n",
    "Change the word \"a\" to \"an\" when the next word in the sentence begins with a vowel."
   ]
  },
  {
   "cell_type": "markdown",
   "metadata": {},
   "source": [
    "## Stylometrics Analysis\n"
   ]
  },
  {
   "cell_type": "markdown",
   "metadata": {},
   "source": [
    "## Process Data from a Web "
   ]
  },
  {
   "cell_type": "code",
   "execution_count": 2,
   "metadata": {},
   "outputs": [
    {
     "ename": "ModuleNotFoundError",
     "evalue": "No module named 'wikipedia'",
     "output_type": "error",
     "traceback": [
      "\u001b[1;31m---------------------------------------------------------------------------\u001b[0m",
      "\u001b[1;31mModuleNotFoundError\u001b[0m                       Traceback (most recent call last)",
      "\u001b[1;32m<ipython-input-2-743b025fe736>\u001b[0m in \u001b[0;36m<module>\u001b[1;34m\u001b[0m\n\u001b[1;32m----> 1\u001b[1;33m \u001b[1;32mimport\u001b[0m \u001b[0mwikipedia\u001b[0m\u001b[1;33m\u001b[0m\u001b[1;33m\u001b[0m\u001b[0m\n\u001b[0m",
      "\u001b[1;31mModuleNotFoundError\u001b[0m: No module named 'wikipedia'"
     ]
    }
   ],
   "source": [
    "import wikipedia"
   ]
  },
  {
   "cell_type": "code",
   "execution_count": 3,
   "metadata": {},
   "outputs": [
    {
     "name": "stdout",
     "output_type": "stream",
     "text": [
      "Collecting wikipedia\n",
      "  Downloading https://files.pythonhosted.org/packages/67/35/25e68fbc99e672127cc6fbb14b8ec1ba3dfef035bf1e4c90f78f24a80b7d/wikipedia-1.4.0.tar.gz\n",
      "Requirement already satisfied: beautifulsoup4 in c:\\programdata\\anaconda3\\lib\\site-packages (from wikipedia) (4.7.1)\n",
      "Requirement already satisfied: requests<3.0.0,>=2.0.0 in c:\\programdata\\anaconda3\\lib\\site-packages (from wikipedia) (2.21.0)\n",
      "Requirement already satisfied: soupsieve>=1.2 in c:\\programdata\\anaconda3\\lib\\site-packages (from beautifulsoup4->wikipedia) (1.8)\n",
      "Requirement already satisfied: urllib3<1.25,>=1.21.1 in c:\\programdata\\anaconda3\\lib\\site-packages (from requests<3.0.0,>=2.0.0->wikipedia) (1.24.1)\n",
      "Requirement already satisfied: chardet<3.1.0,>=3.0.2 in c:\\programdata\\anaconda3\\lib\\site-packages (from requests<3.0.0,>=2.0.0->wikipedia) (3.0.4)\n",
      "Requirement already satisfied: certifi>=2017.4.17 in c:\\programdata\\anaconda3\\lib\\site-packages (from requests<3.0.0,>=2.0.0->wikipedia) (2019.3.9)\n",
      "Requirement already satisfied: idna<2.9,>=2.5 in c:\\programdata\\anaconda3\\lib\\site-packages (from requests<3.0.0,>=2.0.0->wikipedia) (2.8)\n",
      "Building wheels for collected packages: wikipedia\n",
      "  Building wheel for wikipedia (setup.py): started\n",
      "  Building wheel for wikipedia (setup.py): finished with status 'done'\n",
      "  Stored in directory: C:\\Users\\val-p1\\AppData\\Local\\pip\\Cache\\wheels\\87\\2a\\18\\4e471fd96d12114d16fe4a446d00c3b38fb9efcb744bd31f4a\n",
      "Successfully built wikipedia\n",
      "Installing collected packages: wikipedia\n",
      "Successfully installed wikipedia-1.4.0\n"
     ]
    }
   ],
   "source": [
    "!pip install wikipedia"
   ]
  },
  {
   "cell_type": "code",
   "execution_count": 4,
   "metadata": {},
   "outputs": [],
   "source": [
    "import wikipedia"
   ]
  },
  {
   "cell_type": "code",
   "execution_count": 6,
   "metadata": {},
   "outputs": [
    {
     "data": {
      "text/plain": [
       "['Riga',\n",
       " 'Riga International Airport',\n",
       " 'Riga FC',\n",
       " 'Riga District',\n",
       " 'Riga Black Balsam',\n",
       " 'The Dogs of Riga',\n",
       " 'Battle of Riga',\n",
       " 'Riga Cathedral',\n",
       " 'Riga Technical University',\n",
       " 'Riga (moped)']"
      ]
     },
     "execution_count": 6,
     "metadata": {},
     "output_type": "execute_result"
    }
   ],
   "source": [
    "wikipedia.search(\"Riga\")"
   ]
  },
  {
   "cell_type": "code",
   "execution_count": 7,
   "metadata": {},
   "outputs": [
    {
     "data": {
      "text/plain": [
       "\"Riga (; Latvian: Rīga [ˈriːɡa] (listen); Livonian: Rīgõ) is the capital, the largest and primate city of Latvia. With 632,614 inhabitants (2019), it is also the largest city in the three Baltic states, home to one third of Latvia's population and one tenth of the three Baltic states' combined population. The city lies on the Gulf of Riga at the mouth of the Daugava river where it meets the Baltic Sea. Riga's territory covers 307.17 km2 (118.60 sq mi) and lies 1–10 m (3 ft 3 in–32 ft 10 in) above sea level, on a flat and sandy plain.Riga was founded in 1201 and is a former Hanseatic League member. Riga's historical centre is a UNESCO World Heritage Site, noted for its Art Nouveau/Jugendstil architecture and 19th century wooden architecture. Riga was the European Capital of Culture during 2014, along with Umeå in Sweden. Riga hosted the 2006 NATO Summit, the Eurovision Song Contest 2003, the 2006 IIHF Men's World Ice Hockey Championships and the 2013 World Women's Curling Championship. It is home to the European Union's office of European Regulators for Electronic Communications (BEREC).\\nIn 2016, Riga received over 1.4 million visitors. The city is served by Riga International Airport, the largest and busiest airport in the Baltic states. Riga is a member of Eurocities, the Union of the Baltic Cities (UBC) and Union of Capitals of the European Union (UCEU).\""
      ]
     },
     "execution_count": 7,
     "metadata": {},
     "output_type": "execute_result"
    }
   ],
   "source": [
    "wikipedia.summary('Riga')"
   ]
  },
  {
   "cell_type": "code",
   "execution_count": 9,
   "metadata": {},
   "outputs": [
    {
     "data": {
      "text/plain": [
       "'The Riga was a Soviet moped built in Riga between 1965 and 1992.'"
      ]
     },
     "execution_count": 9,
     "metadata": {},
     "output_type": "execute_result"
    }
   ],
   "source": [
    "wikipedia.summary('Riga (moped)')"
   ]
  },
  {
   "cell_type": "code",
   "execution_count": 10,
   "metadata": {},
   "outputs": [],
   "source": [
    "# To find out more read the quickstart https://wikipedia.readthedocs.io/en/latest/quickstart.html"
   ]
  },
  {
   "cell_type": "markdown",
   "metadata": {},
   "source": [
    "## Build a Summarizer\n",
    "\n",
    "### 4 steps to build a Summarizer\n",
    "1. Remove stop words (defined below) for the analysis\n",
    "2. Create frequency table of words - how many times each word appears in the text\n",
    "3. Assign score to each sentence depending on the words it contains and the frequency table\n",
    "4. Build summary by adding every sentence above a certain score threshold"
   ]
  },
  {
   "cell_type": "markdown",
   "metadata": {},
   "source": [
    "### Sources\n",
    "* https://dev.to/davidisrawi/build-a-quick-summarizer-with-python-and-nltk\n",
    "* https://towardsdatascience.com/write-a-simple-summarizer-in-python-e9ca6138a08e\n",
    "* https://becominghuman.ai/text-summarization-in-5-steps-using-nltk-65b21e352b65"
   ]
  },
  {
   "cell_type": "markdown",
   "metadata": {},
   "source": [
    "### Extra credit, future ideas that can be implemented in Python\n",
    "* Build a function that takes a web address (URL) and returns the summary\n",
    "* Allow exporting of the summary to PDF\n",
    "* Add e-mailing of the summary to the address of our choosing\n"
   ]
  }
 ],
 "metadata": {
  "kernelspec": {
   "display_name": "Python 3",
   "language": "python",
   "name": "python3"
  },
  "language_info": {
   "codemirror_mode": {
    "name": "ipython",
    "version": 3
   },
   "file_extension": ".py",
   "mimetype": "text/x-python",
   "name": "python",
   "nbconvert_exporter": "python",
   "pygments_lexer": "ipython3",
   "version": "3.7.3"
  }
 },
 "nbformat": 4,
 "nbformat_minor": 2
}
