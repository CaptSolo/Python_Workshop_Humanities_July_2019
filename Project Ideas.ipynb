{
 "cells": [
  {
   "cell_type": "markdown",
   "metadata": {},
   "source": [
    "# Project Ideas\n",
    "\n",
    "## Perform stylometrics analysis\n",
    "## Process data from Web using JSON API\n",
    "## Build a text Summarizer"
   ]
  },
  {
   "cell_type": "markdown",
   "metadata": {},
   "source": []
  },
  {
   "cell_type": "markdown",
   "metadata": {},
   "source": [
    "## Build a Summarizer\n",
    "\n",
    "### 4 steps to build a Summarizer\n",
    "1. Remove stop words (defined below) for the analysis\n",
    "2. Create frequency table of words - how many times each word appears in the text\n",
    "3. Assign score to each sentence depending on the words it contains and the frequency table\n",
    "4. Build summary by adding every sentence above a certain score threshold"
   ]
  },
  {
   "cell_type": "markdown",
   "metadata": {},
   "source": [
    "### Sources\n",
    "* https://dev.to/davidisrawi/build-a-quick-summarizer-with-python-and-nltk\n",
    "* https://towardsdatascience.com/write-a-simple-summarizer-in-python-e9ca6138a08e\n",
    "* https://becominghuman.ai/text-summarization-in-5-steps-using-nltk-65b21e352b65"
   ]
  },
  {
   "cell_type": "markdown",
   "metadata": {},
   "source": [
    "### Extra credit, future ideas that can be implemented in Python\n",
    "* Build a function that takes a web address (URL) and returns the summary\n",
    "* Allow exporting of the summary to PDF\n",
    "* Add e-mailing of the summary to the address of our choosing\n"
   ]
  }
 ],
 "metadata": {
  "kernelspec": {
   "display_name": "Python 3",
   "language": "python",
   "name": "python3"
  },
  "language_info": {
   "codemirror_mode": {
    "name": "ipython",
    "version": 3
   },
   "file_extension": ".py",
   "mimetype": "text/x-python",
   "name": "python",
   "nbconvert_exporter": "python",
   "pygments_lexer": "ipython3",
   "version": "3.7.3"
  }
 },
 "nbformat": 4,
 "nbformat_minor": 2
}
