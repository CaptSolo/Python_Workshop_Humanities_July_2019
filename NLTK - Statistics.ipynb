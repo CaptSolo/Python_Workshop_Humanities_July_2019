{
 "cells": [
  {
   "cell_type": "markdown",
   "metadata": {},
   "source": [
    "## Computing with Language: Statistics"
   ]
  },
  {
   "cell_type": "code",
   "execution_count": 1,
   "metadata": {},
   "outputs": [
    {
     "name": "stdout",
     "output_type": "stream",
     "text": [
      "*** Introductory Examples for the NLTK Book ***\n",
      "Loading text1, ..., text9 and sent1, ..., sent9\n",
      "Type the name of the text or sentence to view it.\n",
      "Type: 'texts()' or 'sents()' to list the materials.\n",
      "text1: Moby Dick by Herman Melville 1851\n",
      "text2: Sense and Sensibility by Jane Austen 1811\n",
      "text3: The Book of Genesis\n",
      "text4: Inaugural Address Corpus\n",
      "text5: Chat Corpus\n",
      "text6: Monty Python and the Holy Grail\n",
      "text7: Wall Street Journal\n",
      "text8: Personals Corpus\n",
      "text9: The Man Who Was Thursday by G . K . Chesterton 1908\n"
     ]
    }
   ],
   "source": [
    "import nltk\n",
    "\n",
    "# make sure that NLTK language resources have been downloaded \n",
    "# (see \"NLTK Introduction\" notebook)\n",
    "\n",
    "from nltk.book import *"
   ]
  },
  {
   "cell_type": "markdown",
   "metadata": {},
   "source": [
    "### [Word] Frequency Distributions\n",
    "\n",
    "FreqDist is used to encode \"frequency distributions\", which count the number of times that each outcome of an experiment occurs.\n",
    "* In case of text, its frequency distribution will contains counts of all tokens that appear in the text.\n",
    "* Technically: FreqDist() creates a Python object (that holds information about a frequency distribution)"
   ]
  },
  {
   "cell_type": "code",
   "execution_count": 2,
   "metadata": {},
   "outputs": [
    {
     "name": "stdout",
     "output_type": "stream",
     "text": [
      "<FreqDist with 19317 samples and 260819 outcomes>\n"
     ]
    }
   ],
   "source": [
    "# frequency distribution of text1\n",
    "fdist1 = FreqDist(text1)\n",
    "\n",
    "print(fdist1)"
   ]
  },
  {
   "cell_type": "markdown",
   "metadata": {},
   "source": [
    "**FreqDist** methods:\n",
    "\n",
    "* freq(sample) - returns the number of times \"sample\" appears in FreqDist\n",
    "* hapaxes() - a list of samples that appear only once\n",
    "* max() - the sample with the maximum number of occurences\n",
    "* plot() - plot a FreqDist chart\n",
    "* pprint() - \"pretty print\" the first items of FreqDist\n",
    "\n",
    "NLTK book: http://www.nltk.org/book/ch01.html#computing-with-language-simple-statistics\n",
    "\n",
    "Full list of methods: http://www.nltk.org/api/nltk.html#nltk.probability.FreqDist"
   ]
  },
  {
   "cell_type": "code",
   "execution_count": 3,
   "metadata": {},
   "outputs": [
    {
     "name": "stdout",
     "output_type": "stream",
     "text": [
      "FreqDist({',': 18713, 'the': 13721, '.': 6862, 'of': 6536, 'and': 6024, 'a': 4569, 'to': 4542, ';': 4072, 'in': 3916, 'that': 2982, ...})\n"
     ]
    }
   ],
   "source": [
    "# print frequency distribution (top results)\n",
    "\n",
    "fdist1.pprint()"
   ]
  },
  {
   "cell_type": "code",
   "execution_count": 4,
   "metadata": {},
   "outputs": [
    {
     "data": {
      "text/plain": [
       "','"
      ]
     },
     "execution_count": 4,
     "metadata": {},
     "output_type": "execute_result"
    }
   ],
   "source": [
    "# max()\n",
    "\n",
    "fdist1.max()"
   ]
  },
  {
   "cell_type": "code",
   "execution_count": 5,
   "metadata": {},
   "outputs": [
    {
     "name": "stdout",
     "output_type": "stream",
     "text": [
      "','  : 0.07174707364110744\n",
      "whale: 0.003473673313677301\n"
     ]
    }
   ],
   "source": [
    "# freq()\n",
    "\n",
    "print(\"','  :\", fdist1.freq(\",\"))\n",
    "print(\"whale:\", fdist1.freq(\"whale\"))"
   ]
  },
  {
   "cell_type": "markdown",
   "metadata": {},
   "source": [
    "Information about Python dictionaries: \n",
    "* [\"Dictionaries and Structuring Data\"](https://automatetheboringstuff.com/chapter5/)"
   ]
  },
  {
   "cell_type": "code",
   "execution_count": 6,
   "metadata": {},
   "outputs": [
    {
     "data": {
      "text/plain": [
       "906"
      ]
     },
     "execution_count": 6,
     "metadata": {},
     "output_type": "execute_result"
    }
   ],
   "source": [
    "# output of fdist1.pprint() looks like a Python \"dictionary\"\n",
    "\n",
    "# can we look up its values by a given \"key\"?\n",
    "fdist1[\"whale\"]"
   ]
  },
  {
   "cell_type": "code",
   "execution_count": 7,
   "metadata": {},
   "outputs": [
    {
     "data": {
      "text/plain": [
       "[(',', 18713),\n",
       " ('the', 13721),\n",
       " ('.', 6862),\n",
       " ('of', 6536),\n",
       " ('and', 6024),\n",
       " ('a', 4569),\n",
       " ('to', 4542),\n",
       " (';', 4072),\n",
       " ('in', 3916),\n",
       " ('that', 2982)]"
      ]
     },
     "execution_count": 7,
     "metadata": {},
     "output_type": "execute_result"
    }
   ],
   "source": [
    "# top 10 results (not that interesting for text)\n",
    "\n",
    "fdist1.most_common(10)"
   ]
  },
  {
   "cell_type": "code",
   "execution_count": 8,
   "metadata": {},
   "outputs": [
    {
     "data": {
      "image/png": "[encoded data removed]",
      "text/plain": [
       "<Figure size 432x288 with 1 Axes>"
      ]
     },
     "metadata": {
      "needs_background": "light"
     },
     "output_type": "display_data"
    },
    {
     "data": {
      "text/plain": [
       "<matplotlib.axes._subplots.AxesSubplot at 0x11bb2a0b8>"
      ]
     },
     "execution_count": 8,
     "metadata": {},
     "output_type": "execute_result"
    }
   ],
   "source": [
    "%matplotlib inline\n",
    "\n",
    "# plot the distribution\n",
    "fdist1.plot(30)"
   ]
  },
  {
   "cell_type": "code",
   "execution_count": 9,
   "metadata": {},
   "outputs": [
    {
     "data": {
      "text/plain": [
       "[('The', 612),\n",
       " ('their', 612),\n",
       " ('are', 586),\n",
       " ('they', 586),\n",
       " ('an', 582),\n",
       " ('some', 578),\n",
       " ('then', 571),\n",
       " ('my', 564),\n",
       " ('when', 553),\n",
       " ('upon', 538)]"
      ]
     },
     "execution_count": 9,
     "metadata": {},
     "output_type": "execute_result"
    }
   ],
   "source": [
    "# most_common() returs a list -> we can \"slice\" it\n",
    "\n",
    "my_list = fdist1.most_common(100)\n",
    "\n",
    "# results 50 through 59\n",
    "my_list[50:60]"
   ]
  },
  {
   "cell_type": "code",
   "execution_count": 10,
   "metadata": {},
   "outputs": [
    {
     "data": {
      "text/plain": [
       "['Herman',\n",
       " 'Melville',\n",
       " ']',\n",
       " 'ETYMOLOGY',\n",
       " 'Late',\n",
       " 'Consumptive',\n",
       " 'School',\n",
       " 'threadbare',\n",
       " 'lexicons',\n",
       " 'mockingly']"
      ]
     },
     "execution_count": 10,
     "metadata": {},
     "output_type": "execute_result"
    }
   ],
   "source": [
    "# least common results (first 10 examples)\n",
    "\n",
    "fdist1.hapaxes()[:10]"
   ]
  },
  {
   "cell_type": "markdown",
   "metadata": {},
   "source": [
    "### Words can appear both in lowercase and Capitalized\n",
    "\n",
    "Let's fix our FreqDist:"
   ]
  },
  {
   "cell_type": "code",
   "execution_count": 11,
   "metadata": {},
   "outputs": [],
   "source": [
    "# need to \"lowercase\" the text before passing it to FreqDist\n",
    "#   - see example in https://www.nltk.org/api/nltk.html#nltk.probability.FreqDist\n",
    "\n",
    "fdist2 = FreqDist(word.lower() for word in text1)\n",
    "\n",
    "# we're going through the list of tokens in text,\n",
    "#  - returning (generating) lowercase versions of these tokens\n",
    "#  - and passing the result to FreqDist"
   ]
  },
  {
   "cell_type": "code",
   "execution_count": 12,
   "metadata": {},
   "outputs": [
    {
     "name": "stdout",
     "output_type": "stream",
     "text": [
      "0.003473673313677301\n",
      "0.0010812095744558486\n",
      "\n",
      "0.004700577795329328\n"
     ]
    }
   ],
   "source": [
    "# initial:\n",
    "print(fdist1.freq(\"whale\"))\n",
    "print(fdist1.freq(\"Whale\"))\n",
    "print()\n",
    "\n",
    "# fixed:\n",
    "print(fdist2.freq(\"whale\"))"
   ]
  },
  {
   "cell_type": "markdown",
   "metadata": {},
   "source": [
    "### Cleaning data: removing stopwords\n",
    "\n",
    "NLTK contains a corpus of *stopwords* - high-frequency words like \"the\", \"to\" and \"also\" - that we may want to filter out of a document before further processing.\n",
    "\n",
    "Stopwords usually have little lexical content, and their presence in a text fails to distinguish it from other texts.\n",
    "\n",
    "https://www.nltk.org/book/ch02#wordlist-corpora"
   ]
  },
  {
   "cell_type": "code",
   "execution_count": 13,
   "metadata": {},
   "outputs": [
    {
     "data": {
      "text/plain": [
       "['i', 'me', 'my', 'myself', 'we', 'our', 'ours', 'ourselves']"
      ]
     },
     "execution_count": 13,
     "metadata": {},
     "output_type": "execute_result"
    }
   ],
   "source": [
    "from nltk.corpus import stopwords\n",
    "\n",
    "# English stopwords\n",
    "stop_words = stopwords.words(\"english\")\n",
    "\n",
    "stop_words[:8]"
   ]
  },
  {
   "cell_type": "code",
   "execution_count": 17,
   "metadata": {},
   "outputs": [
    {
     "data": {
      "text/plain": [
       "['[', 'moby', 'dick', 'by', 'herman', 'melville', '1851']"
      ]
     },
     "execution_count": 17,
     "metadata": {},
     "output_type": "execute_result"
    }
   ],
   "source": [
    "# let's start with text1 in lowercase\n",
    "\n",
    "# return a list  \n",
    "#   containing \"word.lower()\"\n",
    "#     for every item (stored in variable \"word\")\n",
    "#       in resource \"text1\"\n",
    "\n",
    "text = [word.lower() for word in text1]\n",
    "\n",
    "text[:7]"
   ]
  },
  {
   "cell_type": "markdown",
   "metadata": {},
   "source": [
    "**NLTK book: [4.2   Operating on Every Element](https://www.nltk.org/book/ch01#operating-on-every-element)**\n",
    "\n",
    "This *pattern* – doing something (e.g. modifying) with every item in a sequence and returning a list of results – is called Python *list comprehension*:\n",
    "    \n",
    "`result_list = [item.do_something() for item in list]`\n",
    "\n",
    "List comprehensions may also contain conditions (only items matching the condition will be included in the resulting list):\n",
    "\n",
    "`result_list = [item.do_something() for item in list `**`if`**` condition]`\n",
    "\n",
    "It is very useful for filtering and modifying lists."
   ]
  },
  {
   "cell_type": "code",
   "execution_count": 22,
   "metadata": {},
   "outputs": [
    {
     "data": {
      "text/plain": [
       "['[', 'moby', 'dick', 'by', 'herman', 'melville', '1851']"
      ]
     },
     "execution_count": 22,
     "metadata": {},
     "output_type": "execute_result"
    }
   ],
   "source": [
    "# we can filter either (a) text before calling FreqDist or (b) results of FreqDist.\n",
    "# let's filter before calling FreqDist.\n",
    "\n",
    "# create a set of stopwords (operations with sets are faster that with lists)\n",
    "stop_set = set(stop_words)\n",
    "\n",
    "# filter out stopwords (return only words not in the stoplist)\n",
    "without_stopwords = [word for word in text if word not in stop_set]\n",
    "\n",
    "text[:7]"
   ]
  },
  {
   "cell_type": "code",
   "execution_count": 23,
   "metadata": {},
   "outputs": [
    {
     "data": {
      "text/plain": [
       "['moby', 'dick', 'herman', 'melville', '1851', 'etymology', 'supplied']"
      ]
     },
     "execution_count": 23,
     "metadata": {},
     "output_type": "execute_result"
    }
   ],
   "source": [
    "# let's also filter out tokens that are not text or numbers\n",
    "\n",
    "# Python has a built-in method .isalnum() that determines \n",
    "# if a string only consists of letters or digits:\n",
    "\n",
    "# https://docs.python.org/3/library/stdtypes.html#str.isalnum\n",
    "\n",
    "filtered = [word for word in without_stopwords if word.isalnum()]\n",
    "\n",
    "filtered[:7]"
   ]
  },
  {
   "cell_type": "code",
   "execution_count": 25,
   "metadata": {},
   "outputs": [
    {
     "data": {
      "text/plain": [
       "[('whale', 1226),\n",
       " ('one', 921),\n",
       " ('like', 647),\n",
       " ('upon', 566),\n",
       " ('man', 527),\n",
       " ('ship', 518),\n",
       " ('ahab', 511),\n",
       " ('ye', 472),\n",
       " ('sea', 455),\n",
       " ('old', 450),\n",
       " ('would', 432),\n",
       " ('though', 384),\n",
       " ('head', 345),\n",
       " ('yet', 345),\n",
       " ('boat', 336)]"
      ]
     },
     "execution_count": 25,
     "metadata": {},
     "output_type": "execute_result"
    }
   ],
   "source": [
    "# word frequency\n",
    "\n",
    "freq = FreqDist(filtered)\n",
    "\n",
    "freq.most_common(15)"
   ]
  },
  {
   "cell_type": "markdown",
   "metadata": {},
   "source": [
    "### Exploring data: finding interesting words\n",
    "\n",
    "NLTK also includes a list of common English words. We can use it to find unusual or mis-spelt words in a text corpus.\n",
    "\n",
    "See also: https://www.nltk.org/book/ch02#code-unusual"
   ]
  },
  {
   "cell_type": "code",
   "execution_count": 29,
   "metadata": {},
   "outputs": [
    {
     "data": {
      "text/plain": [
       "['moby', 'melville', '1851', 'supplied', 'lexicons', 'grammars', 'mockingly']"
      ]
     },
     "execution_count": 29,
     "metadata": {},
     "output_type": "execute_result"
    }
   ],
   "source": [
    "word_list = nltk.corpus.words.words()\n",
    "\n",
    "# convert word list to a set (+ convert words to lowercase)\n",
    "word_set = set(word.lower() for word in word_list)\n",
    "\n",
    "# filter out common words\n",
    "uncommon = [word for word in filtered if word not in word_set]\n",
    "\n",
    "uncommon[:7]"
   ]
  },
  {
   "cell_type": "code",
   "execution_count": 30,
   "metadata": {},
   "outputs": [
    {
     "data": {
      "text/plain": [
       "[('ahab', 511),\n",
       " ('seemed', 283),\n",
       " ('whales', 268),\n",
       " ('queequeg', 252),\n",
       " ('pequod', 173),\n",
       " ('eyes', 156),\n",
       " ('boats', 147),\n",
       " ('things', 132),\n",
       " ('hands', 130),\n",
       " ('feet', 127),\n",
       " ('called', 116),\n",
       " ('heard', 110),\n",
       " ('years', 96),\n",
       " ('nantucket', 96),\n",
       " ('ships', 87)]"
      ]
     },
     "execution_count": 30,
     "metadata": {},
     "output_type": "execute_result"
    }
   ],
   "source": [
    "# word frequency\n",
    "\n",
    "freq = FreqDist(uncommon)\n",
    "\n",
    "freq.most_common(15)"
   ]
  },
  {
   "cell_type": "markdown",
   "metadata": {},
   "source": [
    "Note: in order to find really uncommon words we may need to clean data further (convert nouns to singular, etc.) or get a larger list of common words."
   ]
  },
  {
   "cell_type": "markdown",
   "metadata": {},
   "source": [
    "### Further information\n",
    "\n",
    "* [Introduction to stylometry with Python](https://programminghistorian.org/en/lessons/introduction-to-stylometry-with-python) by François Dominic Laramée\n",
    " * uses FreqDist\n",
    "\n",
    "Stylometry is the quantitative study of literary style through computational distant reading methods. It is based on the observation that authors tend to write in relatively consistent, recognizable and unique ways. "
   ]
  }
 ],
 "metadata": {
  "kernelspec": {
   "display_name": "Python 3",
   "language": "python",
   "name": "python3"
  },
  "language_info": {
   "codemirror_mode": {
    "name": "ipython",
    "version": 3
   },
   "file_extension": ".py",
   "mimetype": "text/x-python",
   "name": "python",
   "nbconvert_exporter": "python",
   "pygments_lexer": "ipython3",
   "version": "3.7.4"
  }
 },
 "nbformat": 4,
 "nbformat_minor": 2
}
