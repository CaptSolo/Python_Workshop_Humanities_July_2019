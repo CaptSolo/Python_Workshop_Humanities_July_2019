{
 "cells": [
  {
   "cell_type": "markdown",
   "metadata": {},
   "source": [
    "## Natural Language Toolkit (NLTK)\n",
    "\n",
    "**NLTK** is a leading platform for building Python programs to work with human language data. It provides easy-to-use interfaces to [over 50 corpora and lexical resources](http://www.nltk.org/nltk_data/) such as WordNet, along with a suite of text processing libraries for classification, tokenization, stemming, tagging, parsing, and semantic reasoning, wrappers for industrial-strength NLP libraries, and an active discussion forum.\n",
    "\n",
    "http://www.nltk.org/\n",
    "\n",
    "NLTK library documentation (reference) = *Use it to look up how to use a particular NLTK library function*\n",
    "* https://www.nltk.org/api/nltk.html\n",
    "\n",
    "---\n",
    "\n",
    "NLTK wiki (collaboratively edited documentation):\n",
    "* https://github.com/nltk/nltk/wiki"
   ]
  },
  {
   "cell_type": "markdown",
   "metadata": {},
   "source": [
    "### Book: Natural Language Processing with Python \n",
    "\n",
    "NLTK book provides a practical introduction to programming for language processing.\n",
    "\n",
    "Written by the creators of NLTK, it guides the reader through the fundamentals of writing Python programs, working with corpora, categorizing text, analyzing linguistic structure, and more.\n",
    "\n",
    "Online: http://www.nltk.org/book/\n",
    "\n",
    "* we will start with Chapter 1: [\"Language Processing and Python\"](http://www.nltk.org/book/ch01.html)\n",
    "\n",
    "---"
   ]
  },
  {
   "cell_type": "code",
   "execution_count": 1,
   "metadata": {},
   "outputs": [],
   "source": [
    "# configuration for the notebook \n",
    "%matplotlib notebook"
   ]
  },
  {
   "cell_type": "markdown",
   "metadata": {},
   "source": [
    "## 1) Getting started\n",
    "\n",
    "NLTK book: http://www.nltk.org/book/ch01.html#getting-started-with-nltk\n",
    "\n",
    "* Loading NLTK (Python module)\n",
    "* Downloading NLTK language resources (corpora, ...)\n"
   ]
  },
  {
   "cell_type": "code",
   "execution_count": 2,
   "metadata": {},
   "outputs": [],
   "source": [
    "# In order to use a Python library, we need to import (load) it\n",
    "\n",
    "import nltk\n"
   ]
  },
  {
   "cell_type": "code",
   "execution_count": 38,
   "metadata": {},
   "outputs": [
    {
     "data": {
      "text/plain": [
       "sys.version_info(major=3, minor=7, micro=4, releaselevel='final', serial=0)"
      ]
     },
     "execution_count": 38,
     "metadata": {},
     "output_type": "execute_result"
    }
   ],
   "source": [
    "# Let's check what NLTK version we have (for easier troubleshooting and reproducibility)\n",
    "nltk.version_info"
   ]
  },
  {
   "cell_type": "code",
   "execution_count": 39,
   "metadata": {},
   "outputs": [
    {
     "name": "stdout",
     "output_type": "stream",
     "text": [
      "3.7.4\n"
     ]
    }
   ],
   "source": [
    "ver = nltk.version_info\n",
    "print(\"{0}.{1}.{2}\".format(ver.major, ver.minor, ver.micro))"
   ]
  },
  {
   "cell_type": "code",
   "execution_count": 36,
   "metadata": {},
   "outputs": [],
   "source": [
    "# If your NLTK version is lower than 3.7.4 please update NLTK before proceeding:\n",
    "# !conda list nltk\n",
    "# !conda list nltk"
   ]
  },
  {
   "cell_type": "markdown",
   "metadata": {},
   "source": [
    "### nltk.Text\n",
    "\n",
    "**`ntlk.Text` is a simple NLTK helper for loading and exploring textual content (a sequence of words / string tokens):**\n",
    "\n",
    "... intended to support initial exploration of texts (via the interactive console). It can perform a variety of analyses on the text’s contexts (e.g., counting, concordancing, collocation discovery), and display the results.\n",
    "\n",
    "Documentation: [nltk.Text](https://www.nltk.org/api/nltk.html#nltk.text.Text)\n",
    "* lists what we can do with text once it is loaded into nltk.Text(...)"
   ]
  },
  {
   "cell_type": "code",
   "execution_count": 4,
   "metadata": {},
   "outputs": [
    {
     "data": {
      "text/plain": [
       "<Text: This is just an example Another example here...>"
      ]
     },
     "execution_count": 4,
     "metadata": {},
     "output_type": "execute_result"
    }
   ],
   "source": [
    "# Now we can try a simple example:\n",
    "\n",
    "my_word_list = [\"This\", \"is\", \"just\", \"an\", \"example\", \"Another\", \"example\", \"here\"]\n",
    "my_text = nltk.Text(my_word_list)\n",
    "\n",
    "my_text"
   ]
  },
  {
   "cell_type": "code",
   "execution_count": 5,
   "metadata": {},
   "outputs": [
    {
     "data": {
      "text/plain": [
       "nltk.text.Text"
      ]
     },
     "execution_count": 5,
     "metadata": {},
     "output_type": "execute_result"
    }
   ],
   "source": [
    "type(my_text)"
   ]
  },
  {
   "cell_type": "code",
   "execution_count": 6,
   "metadata": {},
   "outputs": [
    {
     "data": {
      "text/plain": [
       "2"
      ]
     },
     "execution_count": 6,
     "metadata": {},
     "output_type": "execute_result"
    }
   ],
   "source": [
    "# How many times does the word \"example\" appear?\n",
    "my_text.count(\"example\")\n",
    "\n",
    "# Notes:\n",
    "#  - my_text = our text, processed (loaded) by NLTK\n",
    "#     - technically: a Python object\n",
    "#  - my_text.count(...) = requesting the object to perform a .count(...) function and return the result\n",
    "#     - technically: calling a .count() method"
   ]
  },
  {
   "cell_type": "code",
   "execution_count": 7,
   "metadata": {},
   "outputs": [
    {
     "data": {
      "text/plain": [
       "0"
      ]
     },
     "execution_count": 7,
     "metadata": {},
     "output_type": "execute_result"
    }
   ],
   "source": [
    "# count works on tokens (full words in this case)\n",
    "my_text.count('exam')"
   ]
  },
  {
   "cell_type": "code",
   "execution_count": 8,
   "metadata": {},
   "outputs": [
    {
     "data": {
      "text/plain": [
       "False"
      ]
     },
     "execution_count": 8,
     "metadata": {},
     "output_type": "execute_result"
    }
   ],
   "source": [
    "'exam' in my_text"
   ]
  },
  {
   "cell_type": "code",
   "execution_count": 9,
   "metadata": {},
   "outputs": [
    {
     "data": {
      "text/plain": [
       "True"
      ]
     },
     "execution_count": 9,
     "metadata": {},
     "output_type": "execute_result"
    }
   ],
   "source": [
    "'example' in my_text"
   ]
  },
  {
   "cell_type": "markdown",
   "metadata": {},
   "source": [
    "### Tokenizing\n",
    "\n",
    "Let's convert a text string into nltk.Text.\n",
    "First, we need to split it into tokens (to *tokenize* it). "
   ]
  },
  {
   "cell_type": "code",
   "execution_count": 10,
   "metadata": {},
   "outputs": [
    {
     "name": "stderr",
     "output_type": "stream",
     "text": [
      "[nltk_data] Downloading package punkt to /Users/captsolo/nltk_data...\n",
      "[nltk_data]   Package punkt is already up-to-date!\n"
     ]
    },
    {
     "data": {
      "text/plain": [
       "True"
      ]
     },
     "execution_count": 10,
     "metadata": {},
     "output_type": "execute_result"
    }
   ],
   "source": [
    "# We need to download a package containing punctuation before we can tokenize\n",
    "import nltk\n",
    "nltk.download('punkt')"
   ]
  },
  {
   "cell_type": "code",
   "execution_count": 11,
   "metadata": {},
   "outputs": [
    {
     "data": {
      "text/plain": [
       "['NLTK', 'has', 'been', 'called', '“', 'a']"
      ]
     },
     "execution_count": 11,
     "metadata": {},
     "output_type": "execute_result"
    }
   ],
   "source": [
    "# Splitting text into tokens (words, ...) = tokenizing\n",
    "\n",
    "from nltk.tokenize import word_tokenize\n",
    "\n",
    "excerpt = \"NLTK has been called “a wonderful tool for teaching, and working in, computational linguistics using Python,” and “an amazing library to play with natural language.”\"\n",
    "tokens = word_tokenize(excerpt)\n",
    "\n",
    "tokens[:6]"
   ]
  },
  {
   "cell_type": "code",
   "execution_count": 12,
   "metadata": {},
   "outputs": [
    {
     "name": "stdout",
     "output_type": "stream",
     "text": [
      "1\n"
     ]
    }
   ],
   "source": [
    "my_text2 = nltk.Text(tokens)\n",
    "\n",
    "print(my_text2.count(\"NLTK\"))"
   ]
  },
  {
   "cell_type": "markdown",
   "metadata": {},
   "source": [
    "### Downloading NLTK language resources\n",
    "\n",
    "NLTK also contains many language resources (corpora, ...) but you have select and download them separately (in order to save disk space and only download what is needed).\n",
    "\n",
    "Let's download text collections used in the NLTK book: \n",
    "* `nltk.download(\"book\")`\n",
    "\n",
    "Note: you can also download resources interactively:\n",
    "* `nltk.download()`"
   ]
  },
  {
   "cell_type": "code",
   "execution_count": 13,
   "metadata": {},
   "outputs": [
    {
     "name": "stderr",
     "output_type": "stream",
     "text": [
      "[nltk_data] Downloading collection 'book'\n",
      "[nltk_data]    | \n",
      "[nltk_data]    | Downloading package abc to\n",
      "[nltk_data]    |     /Users/captsolo/nltk_data...\n",
      "[nltk_data]    |   Package abc is already up-to-date!\n",
      "[nltk_data]    | Downloading package brown to\n",
      "[nltk_data]    |     /Users/captsolo/nltk_data...\n",
      "[nltk_data]    |   Package brown is already up-to-date!\n",
      "[nltk_data]    | Downloading package chat80 to\n",
      "[nltk_data]    |     /Users/captsolo/nltk_data...\n",
      "[nltk_data]    |   Package chat80 is already up-to-date!\n",
      "[nltk_data]    | Downloading package cmudict to\n",
      "[nltk_data]    |     /Users/captsolo/nltk_data...\n",
      "[nltk_data]    |   Package cmudict is already up-to-date!\n",
      "[nltk_data]    | Downloading package conll2000 to\n",
      "[nltk_data]    |     /Users/captsolo/nltk_data...\n",
      "[nltk_data]    |   Package conll2000 is already up-to-date!\n",
      "[nltk_data]    | Downloading package conll2002 to\n",
      "[nltk_data]    |     /Users/captsolo/nltk_data...\n",
      "[nltk_data]    |   Package conll2002 is already up-to-date!\n",
      "[nltk_data]    | Downloading package dependency_treebank to\n",
      "[nltk_data]    |     /Users/captsolo/nltk_data...\n",
      "[nltk_data]    |   Package dependency_treebank is already up-to-date!\n",
      "[nltk_data]    | Downloading package genesis to\n",
      "[nltk_data]    |     /Users/captsolo/nltk_data...\n",
      "[nltk_data]    |   Package genesis is already up-to-date!\n",
      "[nltk_data]    | Downloading package gutenberg to\n",
      "[nltk_data]    |     /Users/captsolo/nltk_data...\n",
      "[nltk_data]    |   Package gutenberg is already up-to-date!\n",
      "[nltk_data]    | Downloading package ieer to\n",
      "[nltk_data]    |     /Users/captsolo/nltk_data...\n",
      "[nltk_data]    |   Package ieer is already up-to-date!\n",
      "[nltk_data]    | Downloading package inaugural to\n",
      "[nltk_data]    |     /Users/captsolo/nltk_data...\n",
      "[nltk_data]    |   Package inaugural is already up-to-date!\n",
      "[nltk_data]    | Downloading package movie_reviews to\n",
      "[nltk_data]    |     /Users/captsolo/nltk_data...\n",
      "[nltk_data]    |   Package movie_reviews is already up-to-date!\n",
      "[nltk_data]    | Downloading package nps_chat to\n",
      "[nltk_data]    |     /Users/captsolo/nltk_data...\n",
      "[nltk_data]    |   Package nps_chat is already up-to-date!\n",
      "[nltk_data]    | Downloading package names to\n",
      "[nltk_data]    |     /Users/captsolo/nltk_data...\n",
      "[nltk_data]    |   Package names is already up-to-date!\n",
      "[nltk_data]    | Downloading package ppattach to\n",
      "[nltk_data]    |     /Users/captsolo/nltk_data...\n",
      "[nltk_data]    |   Package ppattach is already up-to-date!\n",
      "[nltk_data]    | Downloading package reuters to\n",
      "[nltk_data]    |     /Users/captsolo/nltk_data...\n",
      "[nltk_data]    |   Package reuters is already up-to-date!\n",
      "[nltk_data]    | Downloading package senseval to\n",
      "[nltk_data]    |     /Users/captsolo/nltk_data...\n",
      "[nltk_data]    |   Package senseval is already up-to-date!\n",
      "[nltk_data]    | Downloading package state_union to\n",
      "[nltk_data]    |     /Users/captsolo/nltk_data...\n",
      "[nltk_data]    |   Package state_union is already up-to-date!\n",
      "[nltk_data]    | Downloading package stopwords to\n",
      "[nltk_data]    |     /Users/captsolo/nltk_data...\n",
      "[nltk_data]    |   Package stopwords is already up-to-date!\n",
      "[nltk_data]    | Downloading package swadesh to\n",
      "[nltk_data]    |     /Users/captsolo/nltk_data...\n",
      "[nltk_data]    |   Package swadesh is already up-to-date!\n",
      "[nltk_data]    | Downloading package timit to\n",
      "[nltk_data]    |     /Users/captsolo/nltk_data...\n",
      "[nltk_data]    |   Package timit is already up-to-date!\n",
      "[nltk_data]    | Downloading package treebank to\n",
      "[nltk_data]    |     /Users/captsolo/nltk_data...\n",
      "[nltk_data]    |   Package treebank is already up-to-date!\n",
      "[nltk_data]    | Downloading package toolbox to\n",
      "[nltk_data]    |     /Users/captsolo/nltk_data...\n",
      "[nltk_data]    |   Package toolbox is already up-to-date!\n",
      "[nltk_data]    | Downloading package udhr to\n",
      "[nltk_data]    |     /Users/captsolo/nltk_data...\n",
      "[nltk_data]    |   Package udhr is already up-to-date!\n",
      "[nltk_data]    | Downloading package udhr2 to\n",
      "[nltk_data]    |     /Users/captsolo/nltk_data...\n",
      "[nltk_data]    |   Package udhr2 is already up-to-date!\n",
      "[nltk_data]    | Downloading package unicode_samples to\n",
      "[nltk_data]    |     /Users/captsolo/nltk_data...\n",
      "[nltk_data]    |   Package unicode_samples is already up-to-date!\n",
      "[nltk_data]    | Downloading package webtext to\n",
      "[nltk_data]    |     /Users/captsolo/nltk_data...\n",
      "[nltk_data]    |   Package webtext is already up-to-date!\n",
      "[nltk_data]    | Downloading package wordnet to\n",
      "[nltk_data]    |     /Users/captsolo/nltk_data...\n",
      "[nltk_data]    |   Package wordnet is already up-to-date!\n",
      "[nltk_data]    | Downloading package wordnet_ic to\n",
      "[nltk_data]    |     /Users/captsolo/nltk_data...\n",
      "[nltk_data]    |   Package wordnet_ic is already up-to-date!\n",
      "[nltk_data]    | Downloading package words to\n",
      "[nltk_data]    |     /Users/captsolo/nltk_data...\n",
      "[nltk_data]    |   Package words is already up-to-date!\n",
      "[nltk_data]    | Downloading package maxent_treebank_pos_tagger to\n",
      "[nltk_data]    |     /Users/captsolo/nltk_data...\n",
      "[nltk_data]    |   Package maxent_treebank_pos_tagger is already up-\n",
      "[nltk_data]    |       to-date!\n",
      "[nltk_data]    | Downloading package maxent_ne_chunker to\n",
      "[nltk_data]    |     /Users/captsolo/nltk_data...\n",
      "[nltk_data]    |   Package maxent_ne_chunker is already up-to-date!\n",
      "[nltk_data]    | Downloading package universal_tagset to\n",
      "[nltk_data]    |     /Users/captsolo/nltk_data...\n",
      "[nltk_data]    |   Package universal_tagset is already up-to-date!\n",
      "[nltk_data]    | Downloading package punkt to\n",
      "[nltk_data]    |     /Users/captsolo/nltk_data...\n",
      "[nltk_data]    |   Package punkt is already up-to-date!\n",
      "[nltk_data]    | Downloading package book_grammars to\n",
      "[nltk_data]    |     /Users/captsolo/nltk_data...\n",
      "[nltk_data]    |   Package book_grammars is already up-to-date!\n",
      "[nltk_data]    | Downloading package city_database to\n",
      "[nltk_data]    |     /Users/captsolo/nltk_data...\n",
      "[nltk_data]    |   Package city_database is already up-to-date!\n",
      "[nltk_data]    | Downloading package tagsets to\n",
      "[nltk_data]    |     /Users/captsolo/nltk_data...\n",
      "[nltk_data]    |   Package tagsets is already up-to-date!\n",
      "[nltk_data]    | Downloading package panlex_swadesh to\n",
      "[nltk_data]    |     /Users/captsolo/nltk_data...\n",
      "[nltk_data]    |   Package panlex_swadesh is already up-to-date!\n",
      "[nltk_data]    | Downloading package averaged_perceptron_tagger to\n",
      "[nltk_data]    |     /Users/captsolo/nltk_data...\n",
      "[nltk_data]    |   Package averaged_perceptron_tagger is already up-\n",
      "[nltk_data]    |       to-date!\n",
      "[nltk_data]    | \n",
      "[nltk_data]  Done downloading collection book\n"
     ]
    },
    {
     "data": {
      "text/plain": [
       "True"
      ]
     },
     "execution_count": 13,
     "metadata": {},
     "output_type": "execute_result"
    }
   ],
   "source": [
    "# this is a big download of all book packages\n",
    "nltk.download(\"book\")"
   ]
  },
  {
   "cell_type": "code",
   "execution_count": 14,
   "metadata": {},
   "outputs": [
    {
     "name": "stdout",
     "output_type": "stream",
     "text": [
      "*** Introductory Examples for the NLTK Book ***\n",
      "Loading text1, ..., text9 and sent1, ..., sent9\n",
      "Type the name of the text or sentence to view it.\n",
      "Type: 'texts()' or 'sents()' to list the materials.\n",
      "text1: Moby Dick by Herman Melville 1851\n",
      "text2: Sense and Sensibility by Jane Austen 1811\n",
      "text3: The Book of Genesis\n",
      "text4: Inaugural Address Corpus\n",
      "text5: Chat Corpus\n",
      "text6: Monty Python and the Holy Grail\n",
      "text7: Wall Street Journal\n",
      "text8: Personals Corpus\n",
      "text9: The Man Who Was Thursday by G . K . Chesterton 1908\n"
     ]
    }
   ],
   "source": [
    "# After downloading the reources we still need to import them\n",
    "\n",
    "# Let's import all NLTK book resource (*)\n",
    "from nltk.book import *"
   ]
  },
  {
   "cell_type": "markdown",
   "metadata": {},
   "source": [
    "## 2) Exploring textual content"
   ]
  },
  {
   "cell_type": "code",
   "execution_count": 15,
   "metadata": {},
   "outputs": [
    {
     "data": {
      "text/plain": [
       "nltk.text.Text"
      ]
     },
     "execution_count": 15,
     "metadata": {},
     "output_type": "execute_result"
    }
   ],
   "source": [
    "# text1, ... resources are of type nltk.Text (same as in the earlier example):\n",
    "\n",
    "type(text1)"
   ]
  },
  {
   "cell_type": "code",
   "execution_count": 16,
   "metadata": {},
   "outputs": [
    {
     "name": "stdout",
     "output_type": "stream",
     "text": [
      "906\n"
     ]
    }
   ],
   "source": [
    "# We can run all methods that nltk.Text has.\n",
    "\n",
    "# Count words:\n",
    "print(text1.count(\"whale\"))"
   ]
  },
  {
   "cell_type": "code",
   "execution_count": 17,
   "metadata": {},
   "outputs": [
    {
     "name": "stdout",
     "output_type": "stream",
     "text": [
      "Displaying 7 of 7 matches:\n",
      "cean , in order , if possible , to discover a passage through it to India , th\n",
      " throw at the whales , in order to discover when they were nigh enough to risk\n",
      "for ever reach new distances , and discover sights more sweet and strange than\n",
      "gs upon the plain , you will often discover images as of the petrified forms o\n",
      " over numberless unknown worlds to discover his one superficial western one ; \n",
      "se two heads for hours , and never discover that organ . The ear has no extern\n",
      "s keener than man ' s ; Ahab could discover no sign in the sea . But suddenly \n"
     ]
    }
   ],
   "source": [
    "# https://www.nltk.org/api/nltk.html#nltk.text.Text.concordance\n",
    "\n",
    "# Print concordance view (occurences of a word, in context):\n",
    "text1.concordance(\"discover\")"
   ]
  },
  {
   "cell_type": "code",
   "execution_count": 18,
   "metadata": {},
   "outputs": [
    {
     "name": "stdout",
     "output_type": "stream",
     "text": [
      "Displaying 25 of 316 matches:\n",
      " to the character of an independent nation seems to have been distinguished by\n",
      "f Heaven can never be expected on a nation that disregards the eternal rules o\n",
      "first , the representatives of this nation , then consisting of little more th\n",
      ", situation , and relations of this nation and country than any which had ever\n",
      ", prosperity , and happiness of the nation I have acquired an habitual attachm\n",
      "an be no spectacle presented by any nation more pleasing , more noble , majest\n",
      "party for its own ends , not of the nation for the national good . If that sol\n",
      "tures and the people throughout the nation . On this subject it might become m\n",
      "if a personal esteem for the French nation , formed in a residence of seven ye\n",
      "f our fellow - citizens by whatever nation , and if success can not be obtaine\n",
      "y , continue His blessing upon this nation and its Government and give it all \n",
      "powers so justly inspire . A rising nation , spread over a wide and fruitful l\n",
      "ing now decided by the voice of the nation , announced according to the rules \n",
      "ars witness to the fact that a just nation is trusted on its word when recours\n",
      "e union of opinion which gives to a nation the blessing of harmony and the ben\n",
      "uil suffrage of a free and virtuous nation , would under any circumstances hav\n",
      "d spirit and united councils of the nation will be safeguards to its honor and\n",
      "iction that the war with a powerful nation , which forms so prominent a featur\n",
      "out breaking down the spirit of the nation , destroying all confidence in itse\n",
      "ed on the military resources of the nation . These resources are amply suffici\n",
      "the war to an honorable issue . Our nation is in number more than half that of\n",
      "ndividually have been happy and the nation prosperous . Under this Constitutio\n",
      "rights , and is able to protect the nation against injustice from foreign powe\n",
      " great agricultural interest of the nation prospers under its protection . Loc\n",
      "ak our Union , and demolish us as a nation . Our distance from Europe and the \n"
     ]
    }
   ],
   "source": [
    "text4.concordance(\"nation\")"
   ]
  },
  {
   "cell_type": "code",
   "execution_count": 19,
   "metadata": {
    "scrolled": true
   },
   "outputs": [
    {
     "name": "stdout",
     "output_type": "stream",
     "text": [
      "country people government world union time constitution states\n",
      "republic land law party earth other future president war executive\n",
      "congress peace\n"
     ]
    }
   ],
   "source": [
    "# https://www.nltk.org/api/nltk.html#nltk.text.Text.similar\n",
    "\n",
    "# Print words that appear in similar context as \"nation\".\n",
    "text4.similar(\"nation\")"
   ]
  },
  {
   "cell_type": "code",
   "execution_count": 20,
   "metadata": {},
   "outputs": [
    {
     "name": "stdout",
     "output_type": "stream",
     "text": [
      "that_, a_, every_, by_or that_; of_; the_previous by_, -_, of_. the_,\n",
      "one_, all_. the_. this_in all_in the_before after_, the_wore\n",
      "through_into\n"
     ]
    }
   ],
   "source": [
    "# https://www.nltk.org/api/nltk.html#nltk.text.Text.common_contexts\n",
    "\n",
    "# Find contexts common to all given words\n",
    "text1.common_contexts([\"day\", \"night\"])\n"
   ]
  },
  {
   "cell_type": "markdown",
   "metadata": {},
   "source": [
    "### Side note: Python lists\n",
    "\n",
    "A *list* contains multiple values in an ordered sequence.\n",
    "\n",
    "More about Python lists:\n",
    "* https://automatetheboringstuff.com/chapter4/"
   ]
  },
  {
   "cell_type": "code",
   "execution_count": 21,
   "metadata": {},
   "outputs": [
    {
     "name": "stdout",
     "output_type": "stream",
     "text": [
      "42\n"
     ]
    }
   ],
   "source": [
    "# nltk.Text is also a list - can do everything we can do with lists (access parts of it, ...)\n",
    "\n",
    "# What's the 1st occurence of \"He\" in the text?\n",
    "#  - note: Python is case sensitive (unless you take care of it - e.g. convert all text to lowercase)\n",
    "\n",
    "print(text1.index(\"He\"))"
   ]
  },
  {
   "cell_type": "code",
   "execution_count": 22,
   "metadata": {},
   "outputs": [
    {
     "name": "stdout",
     "output_type": "stream",
     "text": [
      "He\n"
     ]
    }
   ],
   "source": [
    "# The word at position #42\n",
    "#  - note: list indexes start from 0\n",
    "\n",
    "print(text1[42])"
   ]
  },
  {
   "cell_type": "code",
   "execution_count": 23,
   "metadata": {},
   "outputs": [
    {
     "name": "stdout",
     "output_type": "stream",
     "text": [
      "['He', 'was', 'ever', 'dusting', 'his', 'old', 'lexicons', 'and', 'grammars', ',']\n"
     ]
    }
   ],
   "source": [
    "print(text1[42:52])"
   ]
  },
  {
   "cell_type": "markdown",
   "metadata": {},
   "source": [
    "## Further exploration\n",
    "\n",
    "* Dispersion plots (distribution of words throughout the text)\n",
    "* Generating text (based on example)\n",
    "\n",
    "### Visualizing the corpus"
   ]
  },
  {
   "cell_type": "code",
   "execution_count": 30,
   "metadata": {
    "scrolled": true
   },
   "outputs": [
    {
     "data": {
      "application/javascript": [
       "/* Put everything inside the global mpl namespace */\n",
       "window.mpl = {};\n",
       "\n",
       "\n",
       "mpl.get_websocket_type = function() {\n",
       "    if (typeof(WebSocket) !== 'undefined') {\n",
       "        return WebSocket;\n",
       "    } else if (typeof(MozWebSocket) !== 'undefined') {\n",
       "        return MozWebSocket;\n",
       "    } else {\n",
       "        alert('Your browser does not have WebSocket support. ' +\n",
       "              'Please try Chrome, Safari or Firefox ≥ 6. ' +\n",
       "              'Firefox 4 and 5 are also supported but you ' +\n",
       "              'have to enable WebSockets in about:config.');\n",
       "    };\n",
       "}\n",
       "\n",
       "mpl.figure = function(figure_id, websocket, ondownload, parent_element) {\n",
       "    this.id = figure_id;\n",
       "\n",
       "    this.ws = websocket;\n",
       "\n",
       "    this.supports_binary = (this.ws.binaryType != undefined);\n",
       "\n",
       "    if (!this.supports_binary) {\n",
       "        var warnings = document.getElementById(\"mpl-warnings\");\n",
       "        if (warnings) {\n",
       "            warnings.style.display = 'block';\n",
       "            warnings.textContent = (\n",
       "                \"This browser does not support binary websocket messages. \" +\n",
       "                    \"Performance may be slow.\");\n",
       "        }\n",
       "    }\n",
       "\n",
       "    this.imageObj = new Image();\n",
       "\n",
       "    this.context = undefined;\n",
       "    this.message = undefined;\n",
       "    this.canvas = undefined;\n",
       "    this.rubberband_canvas = undefined;\n",
       "    this.rubberband_context = undefined;\n",
       "    this.format_dropdown = undefined;\n",
       "\n",
       "    this.image_mode = 'full';\n",
       "\n",
       "    this.root = $('<div/>');\n",
       "    this._root_extra_style(this.root)\n",
       "    this.root.attr('style', 'display: inline-block');\n",
       "\n",
       "    $(parent_element).append(this.root);\n",
       "\n",
       "    this._init_header(this);\n",
       "    this._init_canvas(this);\n",
       "    this._init_toolbar(this);\n",
       "\n",
       "    var fig = this;\n",
       "\n",
       "    this.waiting = false;\n",
       "\n",
       "    this.ws.onopen =  function () {\n",
       "            fig.send_message(\"supports_binary\", {value: fig.supports_binary});\n",
       "            fig.send_message(\"send_image_mode\", {});\n",
       "            if (mpl.ratio != 1) {\n",
       "                fig.send_message(\"set_dpi_ratio\", {'dpi_ratio': mpl.ratio});\n",
       "            }\n",
       "            fig.send_message(\"refresh\", {});\n",
       "        }\n",
       "\n",
       "    this.imageObj.onload = function() {\n",
       "            if (fig.image_mode == 'full') {\n",
       "                // Full images could contain transparency (where diff images\n",
       "                // almost always do), so we need to clear the canvas so that\n",
       "                // there is no ghosting.\n",
       "                fig.context.clearRect(0, 0, fig.canvas.width, fig.canvas.height);\n",
       "            }\n",
       "            fig.context.drawImage(fig.imageObj, 0, 0);\n",
       "        };\n",
       "\n",
       "    this.imageObj.onunload = function() {\n",
       "        fig.ws.close();\n",
       "    }\n",
       "\n",
       "    this.ws.onmessage = this._make_on_message_function(this);\n",
       "\n",
       "    this.ondownload = ondownload;\n",
       "}\n",
       "\n",
       "mpl.figure.prototype._init_header = function() {\n",
       "    var titlebar = $(\n",
       "        '<div class=\"ui-dialog-titlebar ui-widget-header ui-corner-all ' +\n",
       "        'ui-helper-clearfix\"/>');\n",
       "    var titletext = $(\n",
       "        '<div class=\"ui-dialog-title\" style=\"width: 100%; ' +\n",
       "        'text-align: center; padding: 3px;\"/>');\n",
       "    titlebar.append(titletext)\n",
       "    this.root.append(titlebar);\n",
       "    this.header = titletext[0];\n",
       "}\n",
       "\n",
       "\n",
       "\n",
       "mpl.figure.prototype._canvas_extra_style = function(canvas_div) {\n",
       "\n",
       "}\n",
       "\n",
       "\n",
       "mpl.figure.prototype._root_extra_style = function(canvas_div) {\n",
       "\n",
       "}\n",
       "\n",
       "mpl.figure.prototype._init_canvas = function() {\n",
       "    var fig = this;\n",
       "\n",
       "    var canvas_div = $('<div/>');\n",
       "\n",
       "    canvas_div.attr('style', 'position: relative; clear: both; outline: 0');\n",
       "\n",
       "    function canvas_keyboard_event(event) {\n",
       "        return fig.key_event(event, event['data']);\n",
       "    }\n",
       "\n",
       "    canvas_div.keydown('key_press', canvas_keyboard_event);\n",
       "    canvas_div.keyup('key_release', canvas_keyboard_event);\n",
       "    this.canvas_div = canvas_div\n",
       "    this._canvas_extra_style(canvas_div)\n",
       "    this.root.append(canvas_div);\n",
       "\n",
       "    var canvas = $('<canvas/>');\n",
       "    canvas.addClass('mpl-canvas');\n",
       "    canvas.attr('style', \"left: 0; top: 0; z-index: 0; outline: 0\")\n",
       "\n",
       "    this.canvas = canvas[0];\n",
       "    this.context = canvas[0].getContext(\"2d\");\n",
       "\n",
       "    var backingStore = this.context.backingStorePixelRatio ||\n",
       "\tthis.context.webkitBackingStorePixelRatio ||\n",
       "\tthis.context.mozBackingStorePixelRatio ||\n",
       "\tthis.context.msBackingStorePixelRatio ||\n",
       "\tthis.context.oBackingStorePixelRatio ||\n",
       "\tthis.context.backingStorePixelRatio || 1;\n",
       "\n",
       "    mpl.ratio = (window.devicePixelRatio || 1) / backingStore;\n",
       "\n",
       "    var rubberband = $('<canvas/>');\n",
       "    rubberband.attr('style', \"position: absolute; left: 0; top: 0; z-index: 1;\")\n",
       "\n",
       "    var pass_mouse_events = true;\n",
       "\n",
       "    canvas_div.resizable({\n",
       "        start: function(event, ui) {\n",
       "            pass_mouse_events = false;\n",
       "        },\n",
       "        resize: function(event, ui) {\n",
       "            fig.request_resize(ui.size.width, ui.size.height);\n",
       "        },\n",
       "        stop: function(event, ui) {\n",
       "            pass_mouse_events = true;\n",
       "            fig.request_resize(ui.size.width, ui.size.height);\n",
       "        },\n",
       "    });\n",
       "\n",
       "    function mouse_event_fn(event) {\n",
       "        if (pass_mouse_events)\n",
       "            return fig.mouse_event(event, event['data']);\n",
       "    }\n",
       "\n",
       "    rubberband.mousedown('button_press', mouse_event_fn);\n",
       "    rubberband.mouseup('button_release', mouse_event_fn);\n",
       "    // Throttle sequential mouse events to 1 every 20ms.\n",
       "    rubberband.mousemove('motion_notify', mouse_event_fn);\n",
       "\n",
       "    rubberband.mouseenter('figure_enter', mouse_event_fn);\n",
       "    rubberband.mouseleave('figure_leave', mouse_event_fn);\n",
       "\n",
       "    canvas_div.on(\"wheel\", function (event) {\n",
       "        event = event.originalEvent;\n",
       "        event['data'] = 'scroll'\n",
       "        if (event.deltaY < 0) {\n",
       "            event.step = 1;\n",
       "        } else {\n",
       "            event.step = -1;\n",
       "        }\n",
       "        mouse_event_fn(event);\n",
       "    });\n",
       "\n",
       "    canvas_div.append(canvas);\n",
       "    canvas_div.append(rubberband);\n",
       "\n",
       "    this.rubberband = rubberband;\n",
       "    this.rubberband_canvas = rubberband[0];\n",
       "    this.rubberband_context = rubberband[0].getContext(\"2d\");\n",
       "    this.rubberband_context.strokeStyle = \"#000000\";\n",
       "\n",
       "    this._resize_canvas = function(width, height) {\n",
       "        // Keep the size of the canvas, canvas container, and rubber band\n",
       "        // canvas in synch.\n",
       "        canvas_div.css('width', width)\n",
       "        canvas_div.css('height', height)\n",
       "\n",
       "        canvas.attr('width', width * mpl.ratio);\n",
       "        canvas.attr('height', height * mpl.ratio);\n",
       "        canvas.attr('style', 'width: ' + width + 'px; height: ' + height + 'px;');\n",
       "\n",
       "        rubberband.attr('width', width);\n",
       "        rubberband.attr('height', height);\n",
       "    }\n",
       "\n",
       "    // Set the figure to an initial 600x600px, this will subsequently be updated\n",
       "    // upon first draw.\n",
       "    this._resize_canvas(600, 600);\n",
       "\n",
       "    // Disable right mouse context menu.\n",
       "    $(this.rubberband_canvas).bind(\"contextmenu\",function(e){\n",
       "        return false;\n",
       "    });\n",
       "\n",
       "    function set_focus () {\n",
       "        canvas.focus();\n",
       "        canvas_div.focus();\n",
       "    }\n",
       "\n",
       "    window.setTimeout(set_focus, 100);\n",
       "}\n",
       "\n",
       "mpl.figure.prototype._init_toolbar = function() {\n",
       "    var fig = this;\n",
       "\n",
       "    var nav_element = $('<div/>');\n",
       "    nav_element.attr('style', 'width: 100%');\n",
       "    this.root.append(nav_element);\n",
       "\n",
       "    // Define a callback function for later on.\n",
       "    function toolbar_event(event) {\n",
       "        return fig.toolbar_button_onclick(event['data']);\n",
       "    }\n",
       "    function toolbar_mouse_event(event) {\n",
       "        return fig.toolbar_button_onmouseover(event['data']);\n",
       "    }\n",
       "\n",
       "    for(var toolbar_ind in mpl.toolbar_items) {\n",
       "        var name = mpl.toolbar_items[toolbar_ind][0];\n",
       "        var tooltip = mpl.toolbar_items[toolbar_ind][1];\n",
       "        var image = mpl.toolbar_items[toolbar_ind][2];\n",
       "        var method_name = mpl.toolbar_items[toolbar_ind][3];\n",
       "\n",
       "        if (!name) {\n",
       "            // put a spacer in here.\n",
       "            continue;\n",
       "        }\n",
       "        var button = $('<button/>');\n",
       "        button.addClass('ui-button ui-widget ui-state-default ui-corner-all ' +\n",
       "                        'ui-button-icon-only');\n",
       "        button.attr('role', 'button');\n",
       "        button.attr('aria-disabled', 'false');\n",
       "        button.click(method_name, toolbar_event);\n",
       "        button.mouseover(tooltip, toolbar_mouse_event);\n",
       "\n",
       "        var icon_img = $('<span/>');\n",
       "        icon_img.addClass('ui-button-icon-primary ui-icon');\n",
       "        icon_img.addClass(image);\n",
       "        icon_img.addClass('ui-corner-all');\n",
       "\n",
       "        var tooltip_span = $('<span/>');\n",
       "        tooltip_span.addClass('ui-button-text');\n",
       "        tooltip_span.html(tooltip);\n",
       "\n",
       "        button.append(icon_img);\n",
       "        button.append(tooltip_span);\n",
       "\n",
       "        nav_element.append(button);\n",
       "    }\n",
       "\n",
       "    var fmt_picker_span = $('<span/>');\n",
       "\n",
       "    var fmt_picker = $('<select/>');\n",
       "    fmt_picker.addClass('mpl-toolbar-option ui-widget ui-widget-content');\n",
       "    fmt_picker_span.append(fmt_picker);\n",
       "    nav_element.append(fmt_picker_span);\n",
       "    this.format_dropdown = fmt_picker[0];\n",
       "\n",
       "    for (var ind in mpl.extensions) {\n",
       "        var fmt = mpl.extensions[ind];\n",
       "        var option = $(\n",
       "            '<option/>', {selected: fmt === mpl.default_extension}).html(fmt);\n",
       "        fmt_picker.append(option);\n",
       "    }\n",
       "\n",
       "    // Add hover states to the ui-buttons\n",
       "    $( \".ui-button\" ).hover(\n",
       "        function() { $(this).addClass(\"ui-state-hover\");},\n",
       "        function() { $(this).removeClass(\"ui-state-hover\");}\n",
       "    );\n",
       "\n",
       "    var status_bar = $('<span class=\"mpl-message\"/>');\n",
       "    nav_element.append(status_bar);\n",
       "    this.message = status_bar[0];\n",
       "}\n",
       "\n",
       "mpl.figure.prototype.request_resize = function(x_pixels, y_pixels) {\n",
       "    // Request matplotlib to resize the figure. Matplotlib will then trigger a resize in the client,\n",
       "    // which will in turn request a refresh of the image.\n",
       "    this.send_message('resize', {'width': x_pixels, 'height': y_pixels});\n",
       "}\n",
       "\n",
       "mpl.figure.prototype.send_message = function(type, properties) {\n",
       "    properties['type'] = type;\n",
       "    properties['figure_id'] = this.id;\n",
       "    this.ws.send(JSON.stringify(properties));\n",
       "}\n",
       "\n",
       "mpl.figure.prototype.send_draw_message = function() {\n",
       "    if (!this.waiting) {\n",
       "        this.waiting = true;\n",
       "        this.ws.send(JSON.stringify({type: \"draw\", figure_id: this.id}));\n",
       "    }\n",
       "}\n",
       "\n",
       "\n",
       "mpl.figure.prototype.handle_save = function(fig, msg) {\n",
       "    var format_dropdown = fig.format_dropdown;\n",
       "    var format = format_dropdown.options[format_dropdown.selectedIndex].value;\n",
       "    fig.ondownload(fig, format);\n",
       "}\n",
       "\n",
       "\n",
       "mpl.figure.prototype.handle_resize = function(fig, msg) {\n",
       "    var size = msg['size'];\n",
       "    if (size[0] != fig.canvas.width || size[1] != fig.canvas.height) {\n",
       "        fig._resize_canvas(size[0], size[1]);\n",
       "        fig.send_message(\"refresh\", {});\n",
       "    };\n",
       "}\n",
       "\n",
       "mpl.figure.prototype.handle_rubberband = function(fig, msg) {\n",
       "    var x0 = msg['x0'] / mpl.ratio;\n",
       "    var y0 = (fig.canvas.height - msg['y0']) / mpl.ratio;\n",
       "    var x1 = msg['x1'] / mpl.ratio;\n",
       "    var y1 = (fig.canvas.height - msg['y1']) / mpl.ratio;\n",
       "    x0 = Math.floor(x0) + 0.5;\n",
       "    y0 = Math.floor(y0) + 0.5;\n",
       "    x1 = Math.floor(x1) + 0.5;\n",
       "    y1 = Math.floor(y1) + 0.5;\n",
       "    var min_x = Math.min(x0, x1);\n",
       "    var min_y = Math.min(y0, y1);\n",
       "    var width = Math.abs(x1 - x0);\n",
       "    var height = Math.abs(y1 - y0);\n",
       "\n",
       "    fig.rubberband_context.clearRect(\n",
       "        0, 0, fig.canvas.width / mpl.ratio, fig.canvas.height / mpl.ratio);\n",
       "\n",
       "    fig.rubberband_context.strokeRect(min_x, min_y, width, height);\n",
       "}\n",
       "\n",
       "mpl.figure.prototype.handle_figure_label = function(fig, msg) {\n",
       "    // Updates the figure title.\n",
       "    fig.header.textContent = msg['label'];\n",
       "}\n",
       "\n",
       "mpl.figure.prototype.handle_cursor = function(fig, msg) {\n",
       "    var cursor = msg['cursor'];\n",
       "    switch(cursor)\n",
       "    {\n",
       "    case 0:\n",
       "        cursor = 'pointer';\n",
       "        break;\n",
       "    case 1:\n",
       "        cursor = 'default';\n",
       "        break;\n",
       "    case 2:\n",
       "        cursor = 'crosshair';\n",
       "        break;\n",
       "    case 3:\n",
       "        cursor = 'move';\n",
       "        break;\n",
       "    }\n",
       "    fig.rubberband_canvas.style.cursor = cursor;\n",
       "}\n",
       "\n",
       "mpl.figure.prototype.handle_message = function(fig, msg) {\n",
       "    fig.message.textContent = msg['message'];\n",
       "}\n",
       "\n",
       "mpl.figure.prototype.handle_draw = function(fig, msg) {\n",
       "    // Request the server to send over a new figure.\n",
       "    fig.send_draw_message();\n",
       "}\n",
       "\n",
       "mpl.figure.prototype.handle_image_mode = function(fig, msg) {\n",
       "    fig.image_mode = msg['mode'];\n",
       "}\n",
       "\n",
       "mpl.figure.prototype.updated_canvas_event = function() {\n",
       "    // Called whenever the canvas gets updated.\n",
       "    this.send_message(\"ack\", {});\n",
       "}\n",
       "\n",
       "// A function to construct a web socket function for onmessage handling.\n",
       "// Called in the figure constructor.\n",
       "mpl.figure.prototype._make_on_message_function = function(fig) {\n",
       "    return function socket_on_message(evt) {\n",
       "        if (evt.data instanceof Blob) {\n",
       "            /* FIXME: We get \"Resource interpreted as Image but\n",
       "             * transferred with MIME type text/plain:\" errors on\n",
       "             * Chrome.  But how to set the MIME type?  It doesn't seem\n",
       "             * to be part of the websocket stream */\n",
       "            evt.data.type = \"image/png\";\n",
       "\n",
       "            /* Free the memory for the previous frames */\n",
       "            if (fig.imageObj.src) {\n",
       "                (window.URL || window.webkitURL).revokeObjectURL(\n",
       "                    fig.imageObj.src);\n",
       "            }\n",
       "\n",
       "            fig.imageObj.src = (window.URL || window.webkitURL).createObjectURL(\n",
       "                evt.data);\n",
       "            fig.updated_canvas_event();\n",
       "            fig.waiting = false;\n",
       "            return;\n",
       "        }\n",
       "        else if (typeof evt.data === 'string' && evt.data.slice(0, 21) == \"data:image/png;base64\") {\n",
       "            fig.imageObj.src = evt.data;\n",
       "            fig.updated_canvas_event();\n",
       "            fig.waiting = false;\n",
       "            return;\n",
       "        }\n",
       "\n",
       "        var msg = JSON.parse(evt.data);\n",
       "        var msg_type = msg['type'];\n",
       "\n",
       "        // Call the  \"handle_{type}\" callback, which takes\n",
       "        // the figure and JSON message as its only arguments.\n",
       "        try {\n",
       "            var callback = fig[\"handle_\" + msg_type];\n",
       "        } catch (e) {\n",
       "            console.log(\"No handler for the '\" + msg_type + \"' message type: \", msg);\n",
       "            return;\n",
       "        }\n",
       "\n",
       "        if (callback) {\n",
       "            try {\n",
       "                // console.log(\"Handling '\" + msg_type + \"' message: \", msg);\n",
       "                callback(fig, msg);\n",
       "            } catch (e) {\n",
       "                console.log(\"Exception inside the 'handler_\" + msg_type + \"' callback:\", e, e.stack, msg);\n",
       "            }\n",
       "        }\n",
       "    };\n",
       "}\n",
       "\n",
       "// from http://stackoverflow.com/questions/1114465/getting-mouse-location-in-canvas\n",
       "mpl.findpos = function(e) {\n",
       "    //this section is from http://www.quirksmode.org/js/events_properties.html\n",
       "    var targ;\n",
       "    if (!e)\n",
       "        e = window.event;\n",
       "    if (e.target)\n",
       "        targ = e.target;\n",
       "    else if (e.srcElement)\n",
       "        targ = e.srcElement;\n",
       "    if (targ.nodeType == 3) // defeat Safari bug\n",
       "        targ = targ.parentNode;\n",
       "\n",
       "    // jQuery normalizes the pageX and pageY\n",
       "    // pageX,Y are the mouse positions relative to the document\n",
       "    // offset() returns the position of the element relative to the document\n",
       "    var x = e.pageX - $(targ).offset().left;\n",
       "    var y = e.pageY - $(targ).offset().top;\n",
       "\n",
       "    return {\"x\": x, \"y\": y};\n",
       "};\n",
       "\n",
       "/*\n",
       " * return a copy of an object with only non-object keys\n",
       " * we need this to avoid circular references\n",
       " * http://stackoverflow.com/a/24161582/3208463\n",
       " */\n",
       "function simpleKeys (original) {\n",
       "  return Object.keys(original).reduce(function (obj, key) {\n",
       "    if (typeof original[key] !== 'object')\n",
       "        obj[key] = original[key]\n",
       "    return obj;\n",
       "  }, {});\n",
       "}\n",
       "\n",
       "mpl.figure.prototype.mouse_event = function(event, name) {\n",
       "    var canvas_pos = mpl.findpos(event)\n",
       "\n",
       "    if (name === 'button_press')\n",
       "    {\n",
       "        this.canvas.focus();\n",
       "        this.canvas_div.focus();\n",
       "    }\n",
       "\n",
       "    var x = canvas_pos.x * mpl.ratio;\n",
       "    var y = canvas_pos.y * mpl.ratio;\n",
       "\n",
       "    this.send_message(name, {x: x, y: y, button: event.button,\n",
       "                             step: event.step,\n",
       "                             guiEvent: simpleKeys(event)});\n",
       "\n",
       "    /* This prevents the web browser from automatically changing to\n",
       "     * the text insertion cursor when the button is pressed.  We want\n",
       "     * to control all of the cursor setting manually through the\n",
       "     * 'cursor' event from matplotlib */\n",
       "    event.preventDefault();\n",
       "    return false;\n",
       "}\n",
       "\n",
       "mpl.figure.prototype._key_event_extra = function(event, name) {\n",
       "    // Handle any extra behaviour associated with a key event\n",
       "}\n",
       "\n",
       "mpl.figure.prototype.key_event = function(event, name) {\n",
       "\n",
       "    // Prevent repeat events\n",
       "    if (name == 'key_press')\n",
       "    {\n",
       "        if (event.which === this._key)\n",
       "            return;\n",
       "        else\n",
       "            this._key = event.which;\n",
       "    }\n",
       "    if (name == 'key_release')\n",
       "        this._key = null;\n",
       "\n",
       "    var value = '';\n",
       "    if (event.ctrlKey && event.which != 17)\n",
       "        value += \"ctrl+\";\n",
       "    if (event.altKey && event.which != 18)\n",
       "        value += \"alt+\";\n",
       "    if (event.shiftKey && event.which != 16)\n",
       "        value += \"shift+\";\n",
       "\n",
       "    value += 'k';\n",
       "    value += event.which.toString();\n",
       "\n",
       "    this._key_event_extra(event, name);\n",
       "\n",
       "    this.send_message(name, {key: value,\n",
       "                             guiEvent: simpleKeys(event)});\n",
       "    return false;\n",
       "}\n",
       "\n",
       "mpl.figure.prototype.toolbar_button_onclick = function(name) {\n",
       "    if (name == 'download') {\n",
       "        this.handle_save(this, null);\n",
       "    } else {\n",
       "        this.send_message(\"toolbar_button\", {name: name});\n",
       "    }\n",
       "};\n",
       "\n",
       "mpl.figure.prototype.toolbar_button_onmouseover = function(tooltip) {\n",
       "    this.message.textContent = tooltip;\n",
       "};\n",
       "mpl.toolbar_items = [[\"Home\", \"Reset original view\", \"fa fa-home icon-home\", \"home\"], [\"Back\", \"Back to previous view\", \"fa fa-arrow-left icon-arrow-left\", \"back\"], [\"Forward\", \"Forward to next view\", \"fa fa-arrow-right icon-arrow-right\", \"forward\"], [\"\", \"\", \"\", \"\"], [\"Pan\", \"Pan axes with left mouse, zoom with right\", \"fa fa-arrows icon-move\", \"pan\"], [\"Zoom\", \"Zoom to rectangle\", \"fa fa-square-o icon-check-empty\", \"zoom\"], [\"\", \"\", \"\", \"\"], [\"Download\", \"Download plot\", \"fa fa-floppy-o icon-save\", \"download\"]];\n",
       "\n",
       "mpl.extensions = [\"eps\", \"pdf\", \"png\", \"ps\", \"raw\", \"svg\"];\n",
       "\n",
       "mpl.default_extension = \"png\";var comm_websocket_adapter = function(comm) {\n",
       "    // Create a \"websocket\"-like object which calls the given IPython comm\n",
       "    // object with the appropriate methods. Currently this is a non binary\n",
       "    // socket, so there is still some room for performance tuning.\n",
       "    var ws = {};\n",
       "\n",
       "    ws.close = function() {\n",
       "        comm.close()\n",
       "    };\n",
       "    ws.send = function(m) {\n",
       "        //console.log('sending', m);\n",
       "        comm.send(m);\n",
       "    };\n",
       "    // Register the callback with on_msg.\n",
       "    comm.on_msg(function(msg) {\n",
       "        //console.log('receiving', msg['content']['data'], msg);\n",
       "        // Pass the mpl event to the overridden (by mpl) onmessage function.\n",
       "        ws.onmessage(msg['content']['data'])\n",
       "    });\n",
       "    return ws;\n",
       "}\n",
       "\n",
       "mpl.mpl_figure_comm = function(comm, msg) {\n",
       "    // This is the function which gets called when the mpl process\n",
       "    // starts-up an IPython Comm through the \"matplotlib\" channel.\n",
       "\n",
       "    var id = msg.content.data.id;\n",
       "    // Get hold of the div created by the display call when the Comm\n",
       "    // socket was opened in Python.\n",
       "    var element = $(\"#\" + id);\n",
       "    var ws_proxy = comm_websocket_adapter(comm)\n",
       "\n",
       "    function ondownload(figure, format) {\n",
       "        window.open(figure.imageObj.src);\n",
       "    }\n",
       "\n",
       "    var fig = new mpl.figure(id, ws_proxy,\n",
       "                           ondownload,\n",
       "                           element.get(0));\n",
       "\n",
       "    // Call onopen now - mpl needs it, as it is assuming we've passed it a real\n",
       "    // web socket which is closed, not our websocket->open comm proxy.\n",
       "    ws_proxy.onopen();\n",
       "\n",
       "    fig.parent_element = element.get(0);\n",
       "    fig.cell_info = mpl.find_output_cell(\"<div id='\" + id + \"'></div>\");\n",
       "    if (!fig.cell_info) {\n",
       "        console.error(\"Failed to find cell for figure\", id, fig);\n",
       "        return;\n",
       "    }\n",
       "\n",
       "    var output_index = fig.cell_info[2]\n",
       "    var cell = fig.cell_info[0];\n",
       "\n",
       "};\n",
       "\n",
       "mpl.figure.prototype.handle_close = function(fig, msg) {\n",
       "    var width = fig.canvas.width/mpl.ratio\n",
       "    fig.root.unbind('remove')\n",
       "\n",
       "    // Update the output cell to use the data from the current canvas.\n",
       "    fig.push_to_output();\n",
       "    var dataURL = fig.canvas.toDataURL();\n",
       "    // Re-enable the keyboard manager in IPython - without this line, in FF,\n",
       "    // the notebook keyboard shortcuts fail.\n",
       "    IPython.keyboard_manager.enable()\n",
       "    $(fig.parent_element).html('<img src=\"' + dataURL + '\" width=\"' + width + '\">');\n",
       "    fig.close_ws(fig, msg);\n",
       "}\n",
       "\n",
       "mpl.figure.prototype.close_ws = function(fig, msg){\n",
       "    fig.send_message('closing', msg);\n",
       "    // fig.ws.close()\n",
       "}\n",
       "\n",
       "mpl.figure.prototype.push_to_output = function(remove_interactive) {\n",
       "    // Turn the data on the canvas into data in the output cell.\n",
       "    var width = this.canvas.width/mpl.ratio\n",
       "    var dataURL = this.canvas.toDataURL();\n",
       "    this.cell_info[1]['text/html'] = '<img src=\"' + dataURL + '\" width=\"' + width + '\">';\n",
       "}\n",
       "\n",
       "mpl.figure.prototype.updated_canvas_event = function() {\n",
       "    // Tell IPython that the notebook contents must change.\n",
       "    IPython.notebook.set_dirty(true);\n",
       "    this.send_message(\"ack\", {});\n",
       "    var fig = this;\n",
       "    // Wait a second, then push the new image to the DOM so\n",
       "    // that it is saved nicely (might be nice to debounce this).\n",
       "    setTimeout(function () { fig.push_to_output() }, 1000);\n",
       "}\n",
       "\n",
       "mpl.figure.prototype._init_toolbar = function() {\n",
       "    var fig = this;\n",
       "\n",
       "    var nav_element = $('<div/>');\n",
       "    nav_element.attr('style', 'width: 100%');\n",
       "    this.root.append(nav_element);\n",
       "\n",
       "    // Define a callback function for later on.\n",
       "    function toolbar_event(event) {\n",
       "        return fig.toolbar_button_onclick(event['data']);\n",
       "    }\n",
       "    function toolbar_mouse_event(event) {\n",
       "        return fig.toolbar_button_onmouseover(event['data']);\n",
       "    }\n",
       "\n",
       "    for(var toolbar_ind in mpl.toolbar_items){\n",
       "        var name = mpl.toolbar_items[toolbar_ind][0];\n",
       "        var tooltip = mpl.toolbar_items[toolbar_ind][1];\n",
       "        var image = mpl.toolbar_items[toolbar_ind][2];\n",
       "        var method_name = mpl.toolbar_items[toolbar_ind][3];\n",
       "\n",
       "        if (!name) { continue; };\n",
       "\n",
       "        var button = $('<button class=\"btn btn-default\" href=\"#\" title=\"' + name + '\"><i class=\"fa ' + image + ' fa-lg\"></i></button>');\n",
       "        button.click(method_name, toolbar_event);\n",
       "        button.mouseover(tooltip, toolbar_mouse_event);\n",
       "        nav_element.append(button);\n",
       "    }\n",
       "\n",
       "    // Add the status bar.\n",
       "    var status_bar = $('<span class=\"mpl-message\" style=\"text-align:right; float: right;\"/>');\n",
       "    nav_element.append(status_bar);\n",
       "    this.message = status_bar[0];\n",
       "\n",
       "    // Add the close button to the window.\n",
       "    var buttongrp = $('<div class=\"btn-group inline pull-right\"></div>');\n",
       "    var button = $('<button class=\"btn btn-mini btn-primary\" href=\"#\" title=\"Stop Interaction\"><i class=\"fa fa-power-off icon-remove icon-large\"></i></button>');\n",
       "    button.click(function (evt) { fig.handle_close(fig, {}); } );\n",
       "    button.mouseover('Stop Interaction', toolbar_mouse_event);\n",
       "    buttongrp.append(button);\n",
       "    var titlebar = this.root.find($('.ui-dialog-titlebar'));\n",
       "    titlebar.prepend(buttongrp);\n",
       "}\n",
       "\n",
       "mpl.figure.prototype._root_extra_style = function(el){\n",
       "    var fig = this\n",
       "    el.on(\"remove\", function(){\n",
       "\tfig.close_ws(fig, {});\n",
       "    });\n",
       "}\n",
       "\n",
       "mpl.figure.prototype._canvas_extra_style = function(el){\n",
       "    // this is important to make the div 'focusable\n",
       "    el.attr('tabindex', 0)\n",
       "    // reach out to IPython and tell the keyboard manager to turn it's self\n",
       "    // off when our div gets focus\n",
       "\n",
       "    // location in version 3\n",
       "    if (IPython.notebook.keyboard_manager) {\n",
       "        IPython.notebook.keyboard_manager.register_events(el);\n",
       "    }\n",
       "    else {\n",
       "        // location in version 2\n",
       "        IPython.keyboard_manager.register_events(el);\n",
       "    }\n",
       "\n",
       "}\n",
       "\n",
       "mpl.figure.prototype._key_event_extra = function(event, name) {\n",
       "    var manager = IPython.notebook.keyboard_manager;\n",
       "    if (!manager)\n",
       "        manager = IPython.keyboard_manager;\n",
       "\n",
       "    // Check for shift+enter\n",
       "    if (event.shiftKey && event.which == 13) {\n",
       "        this.canvas_div.blur();\n",
       "        event.shiftKey = false;\n",
       "        // Send a \"J\" for go to next cell\n",
       "        event.which = 74;\n",
       "        event.keyCode = 74;\n",
       "        manager.command_mode();\n",
       "        manager.handle_keydown(event);\n",
       "    }\n",
       "}\n",
       "\n",
       "mpl.figure.prototype.handle_save = function(fig, msg) {\n",
       "    fig.ondownload(fig, null);\n",
       "}\n",
       "\n",
       "\n",
       "mpl.find_output_cell = function(html_output) {\n",
       "    // Return the cell and output element which can be found *uniquely* in the notebook.\n",
       "    // Note - this is a bit hacky, but it is done because the \"notebook_saving.Notebook\"\n",
       "    // IPython event is triggered only after the cells have been serialised, which for\n",
       "    // our purposes (turning an active figure into a static one), is too late.\n",
       "    var cells = IPython.notebook.get_cells();\n",
       "    var ncells = cells.length;\n",
       "    for (var i=0; i<ncells; i++) {\n",
       "        var cell = cells[i];\n",
       "        if (cell.cell_type === 'code'){\n",
       "            for (var j=0; j<cell.output_area.outputs.length; j++) {\n",
       "                var data = cell.output_area.outputs[j];\n",
       "                if (data.data) {\n",
       "                    // IPython >= 3 moved mimebundle to data attribute of output\n",
       "                    data = data.data;\n",
       "                }\n",
       "                if (data['text/html'] == html_output) {\n",
       "                    return [cell, data, j];\n",
       "                }\n",
       "            }\n",
       "        }\n",
       "    }\n",
       "}\n",
       "\n",
       "// Register the function which deals with the matplotlib target/channel.\n",
       "// The kernel may be null if the page has been refreshed.\n",
       "if (IPython.notebook.kernel != null) {\n",
       "    IPython.notebook.kernel.comm_manager.register_target('matplotlib', mpl.mpl_figure_comm);\n",
       "}\n"
      ],
      "text/plain": [
       "<IPython.core.display.Javascript object>"
      ]
     },
     "metadata": {},
     "output_type": "display_data"
    },
    {
     "data": {
      "text/html": [
       "<img src=\"data:image/png;base64,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\" width=\"640\">"
      ],
      "text/plain": [
       "<IPython.core.display.HTML object>"
      ]
     },
     "metadata": {},
     "output_type": "display_data"
    }
   ],
   "source": [
    "# Dispersion plot\n",
    "\n",
    "# source: Inaugural Address Corpus\n",
    "text4.dispersion_plot([\"citizens\", \"democracy\", \"duty\", \"freedom\", \"America\"])"
   ]
  },
  {
   "cell_type": "code",
   "execution_count": 25,
   "metadata": {
    "scrolled": true
   },
   "outputs": [
    {
     "name": "stdout",
     "output_type": "stream",
     "text": [
      "Help on method dispersion_plot in module nltk.text:\n",
      "\n",
      "dispersion_plot(words) method of nltk.text.Text instance\n",
      "    Produce a plot showing the distribution of the words through the text.\n",
      "    Requires pylab to be installed.\n",
      "    \n",
      "    :param words: The words to be plotted\n",
      "    :type words: list(str)\n",
      "    :seealso: nltk.draw.dispersion_plot()\n",
      "\n"
     ]
    }
   ],
   "source": [
    "help(text4.dispersion_plot)"
   ]
  },
  {
   "cell_type": "markdown",
   "metadata": {},
   "source": [
    "### Generating text\n",
    "\n",
    "Note: depending on your version of NLTK `generate()` functionality may or may not work (NLTK version 3.7.4 or newer is required).\n",
    "* In case it does not work, please see subsection \"Saved version of generate() results\".\n",
    "\n"
   ]
  },
  {
   "cell_type": "code",
   "execution_count": 29,
   "metadata": {},
   "outputs": [
    {
     "name": "stderr",
     "output_type": "stream",
     "text": [
      "Building ngram index...\n"
     ]
    },
    {
     "name": "stdout",
     "output_type": "stream",
     "text": [
      "Why is it stripped off from some mountain torrent we had flip ? , so as to\n",
      "preserve all his might had in former years abounding with them , they\n",
      "toil with their lances , strange tales of Southern whaling .\n",
      "conceivable that this fine old Dutch Fishery , a most wealthy example\n",
      "of the sea - captain orders me to admire the magnanimity of the whole\n",
      ", and many whalemen , but dumplings ; good white cedar of the ship\n",
      "casts off her cables ; and chewed it noiselessly ; and though there\n",
      "are birds called grey albatrosses ; and yet faster\n"
     ]
    },
    {
     "data": {
      "text/plain": [
       "'Why is it stripped off from some mountain torrent we had flip ? , so as to\\npreserve all his might had in former years abounding with them , they\\ntoil with their lances , strange tales of Southern whaling .\\nconceivable that this fine old Dutch Fishery , a most wealthy example\\nof the sea - captain orders me to admire the magnanimity of the whole\\n, and many whalemen , but dumplings ; good white cedar of the ship\\ncasts off her cables ; and chewed it noiselessly ; and though there\\nare birds called grey albatrosses ; and yet faster'"
      ]
     },
     "execution_count": 29,
     "metadata": {},
     "output_type": "execute_result"
    }
   ],
   "source": [
    "# Generate text (based on example)\n",
    "# https://www.nltk.org/api/nltk.html#nltk.text.Text.generate\n",
    "\n",
    "# we need to supply seed words\n",
    "text1.generate(text_seed = [\"Why\", \"is\", \"it\"])"
   ]
  },
  {
   "cell_type": "markdown",
   "metadata": {},
   "source": [
    "**NLTK `generate()` builds a [trigram] language model from the supplied text** (words are generated based on previous two words).\n",
    "\n",
    "For more information see nltk.lm: https://www.nltk.org/api/nltk.lm.html"
   ]
  },
  {
   "cell_type": "markdown",
   "metadata": {},
   "source": [
    "**Saved version of `generate()` results:**\n",
    "    \n",
    "`text1.generate(text_seed = [\"Why\", \"is\", \"it\"])`\n",
    "\n",
    "*Building ngram index...*\n",
    "\n",
    "```\n",
    "Why is it stripped off from some mountain torrent we had flip ? , so as to\n",
    "preserve all his might had in former years abounding with them , they\n",
    "toil with their lances , strange tales of Southern whaling .\n",
    "conceivable that this fine old Dutch Fishery , a most wealthy example\n",
    "of the sea - captain orders me to admire the magnanimity of the whole\n",
    ", and many whalemen , but dumplings ; good white cedar of the ship\n",
    "casts off her cables ; and chewed it noiselessly ; and though there\n",
    "are birds called grey albatrosses ; and yet faster\n",
    "```\n"
   ]
  },
  {
   "cell_type": "code",
   "execution_count": 28,
   "metadata": {},
   "outputs": [
    {
     "name": "stdout",
     "output_type": "stream",
     "text": [
      "Help on method generate in module nltk.text:\n",
      "\n",
      "generate(length=100, text_seed=None, random_seed=42) method of nltk.text.Text instance\n",
      "    Print random text, generated using a trigram language model.\n",
      "    See also `help(nltk.lm)`.\n",
      "    \n",
      "    :param length: The length of text to generate (default=100)\n",
      "    :type length: int\n",
      "    \n",
      "    :param text_seed: Generation can be conditioned on preceding context.\n",
      "    :type text_seed: list(str)\n",
      "    \n",
      "    :param random_seed: A random seed or an instance of `random.Random`. If provided,\n",
      "    makes the random sampling part of generation reproducible. (default=42)\n",
      "    :type random_seed: int\n",
      "\n"
     ]
    }
   ],
   "source": [
    "help(text1.generate)"
   ]
  },
  {
   "cell_type": "markdown",
   "metadata": {},
   "source": [
    "---\n",
    "\n",
    "## Your turn!\n",
    "\n",
    "Choose some text and **explore it using NLTK** (following the examples in this notebook).\n",
    "\n",
    "**Write code in notebook cells below**.\n",
    "* add more cells (use \"+\" icon) if necessary\n",
    "\n",
    "You may use NLTK text corpora or load your own text."
   ]
  },
  {
   "cell_type": "code",
   "execution_count": null,
   "metadata": {},
   "outputs": [],
   "source": []
  },
  {
   "cell_type": "code",
   "execution_count": null,
   "metadata": {},
   "outputs": [],
   "source": []
  },
  {
   "cell_type": "code",
   "execution_count": null,
   "metadata": {},
   "outputs": [],
   "source": []
  }
 ],
 "metadata": {
  "kernelspec": {
   "display_name": "Python 3",
   "language": "python",
   "name": "python3"
  },
  "language_info": {
   "codemirror_mode": {
    "name": "ipython",
    "version": 3
   },
   "file_extension": ".py",
   "mimetype": "text/x-python",
   "name": "python",
   "nbconvert_exporter": "python",
   "pygments_lexer": "ipython3",
   "version": "3.7.4"
  }
 },
 "nbformat": 4,
 "nbformat_minor": 2
}
