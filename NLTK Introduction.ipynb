{
 "cells": [
  {
   "cell_type": "markdown",
   "metadata": {},
   "source": [
    "## Natural Language Toolkit (NLTK)\n",
    "\n",
    "**NLTK** is a leading platform for building Python programs to work with human language data. It provides easy-to-use interfaces to [over 50 corpora and lexical resources](http://www.nltk.org/nltk_data/) such as WordNet, along with a suite of text processing libraries for classification, tokenization, stemming, tagging, parsing, and semantic reasoning, wrappers for industrial-strength NLP libraries, and an active discussion forum.\n",
    "\n",
    "http://www.nltk.org/\n",
    "\n",
    "NLTK library documentation (reference) = *Use it to look up how to use a particular NLTK library function*\n",
    "* https://www.nltk.org/api/nltk.html\n",
    "\n",
    "---\n",
    "\n",
    "NLTK wiki (collaboratively edited documentation):\n",
    "* https://github.com/nltk/nltk/wiki"
   ]
  },
  {
   "cell_type": "markdown",
   "metadata": {},
   "source": [
    "### Book: Natural Language Processing with Python \n",
    "\n",
    "NLTK book provides a practical introduction to programming for language processing.\n",
    "\n",
    "Written by the creators of NLTK, it guides the reader through the fundamentals of writing Python programs, working with corpora, categorizing text, analyzing linguistic structure, and more.\n",
    "\n",
    "Online: http://www.nltk.org/book/\n",
    "\n",
    "* we will start with Chapter 1: [\"Language Processing and Python\"](http://www.nltk.org/book/ch01.html)\n",
    "\n",
    "---"
   ]
  },
  {
   "cell_type": "code",
   "execution_count": 1,
   "metadata": {},
   "outputs": [],
   "source": [
    "# configuration for the notebook \n",
    "%matplotlib notebook"
   ]
  },
  {
   "cell_type": "markdown",
   "metadata": {},
   "source": [
    "## 1) Getting started\n",
    "\n",
    "NLTK book: http://www.nltk.org/book/ch01.html#getting-started-with-nltk\n",
    "\n",
    "* Loading NLTK (Python module)\n",
    "* Downloading NLTK language resources (corpora, ...)\n"
   ]
  },
  {
   "cell_type": "code",
   "execution_count": 2,
   "metadata": {},
   "outputs": [],
   "source": [
    "# In order to use a Python library, we need to import (load) it\n",
    "\n",
    "import nltk\n"
   ]
  },
  {
   "cell_type": "markdown",
   "metadata": {},
   "source": [
    "**`ntlk.Text` is a simple NLTK helper for loading and exploring textual content (a sequence of words / string tokens):**\n",
    "\n",
    "... intended to support initial exploration of texts (via the interactive console). It can perform a variety of analyses on the text’s contexts (e.g., counting, concordancing, collocation discovery), and display the results.\n",
    "\n",
    "Documentation: [nltk.Text](https://www.nltk.org/api/nltk.html#nltk.text.Text)\n",
    "* lists what we can do with text once it is loaded into nltk.Text(...)"
   ]
  },
  {
   "cell_type": "code",
   "execution_count": 42,
   "metadata": {},
   "outputs": [
    {
     "name": "stdout",
     "output_type": "stream",
     "text": [
      "sys.version_info(major=3, minor=7, micro=3, releaselevel='final', serial=0)\n"
     ]
    }
   ],
   "source": [
    "# Let's see what nltk version to allow easier troubleshooting and reproducibility\n",
    "nltk.version_info"
   ]
  },
  {
   "cell_type": "code",
   "execution_count": 3,
   "metadata": {},
   "outputs": [
    {
     "data": {
      "text/plain": [
       "<Text: This is just an example Another example here...>"
      ]
     },
     "execution_count": 3,
     "metadata": {},
     "output_type": "execute_result"
    }
   ],
   "source": [
    "# Now we can try a simple example:\n",
    "\n",
    "my_word_list = [\"This\", \"is\", \"just\", \"an\", \"example\", \"Another\", \"example\", \"here\"]\n",
    "my_text = nltk.Text(my_word_list)\n",
    "\n",
    "my_text"
   ]
  },
  {
   "cell_type": "code",
   "execution_count": 4,
   "metadata": {},
   "outputs": [
    {
     "data": {
      "text/plain": [
       "nltk.text.Text"
      ]
     },
     "execution_count": 4,
     "metadata": {},
     "output_type": "execute_result"
    }
   ],
   "source": [
    "type(my_text)"
   ]
  },
  {
   "cell_type": "code",
   "execution_count": 5,
   "metadata": {},
   "outputs": [
    {
     "data": {
      "text/plain": [
       "1"
      ]
     },
     "execution_count": 5,
     "metadata": {},
     "output_type": "execute_result"
    }
   ],
   "source": [
    "my_text.count('is')"
   ]
  },
  {
   "cell_type": "code",
   "execution_count": 6,
   "metadata": {},
   "outputs": [
    {
     "data": {
      "text/plain": [
       "0"
      ]
     },
     "execution_count": 6,
     "metadata": {},
     "output_type": "execute_result"
    }
   ],
   "source": [
    "my_text.count('exam')"
   ]
  },
  {
   "cell_type": "code",
   "execution_count": 7,
   "metadata": {},
   "outputs": [
    {
     "data": {
      "text/plain": [
       "False"
      ]
     },
     "execution_count": 7,
     "metadata": {},
     "output_type": "execute_result"
    }
   ],
   "source": [
    "'exam' in my_text"
   ]
  },
  {
   "cell_type": "code",
   "execution_count": 8,
   "metadata": {},
   "outputs": [
    {
     "data": {
      "text/plain": [
       "'<Text: This is just an example Another example here...>'"
      ]
     },
     "execution_count": 8,
     "metadata": {},
     "output_type": "execute_result"
    }
   ],
   "source": [
    "str(my_text)"
   ]
  },
  {
   "cell_type": "code",
   "execution_count": null,
   "metadata": {},
   "outputs": [],
   "source": [
    "my_text.generate()"
   ]
  },
  {
   "cell_type": "code",
   "execution_count": 9,
   "metadata": {},
   "outputs": [
    {
     "name": "stdout",
     "output_type": "stream",
     "text": [
      "2\n"
     ]
    }
   ],
   "source": [
    "# How many times does the word \"example\" appear?\n",
    "print(my_text.count(\"example\"))\n",
    "\n",
    "# Notes:\n",
    "#  - my_text = our text, processed (loaded) by NLTK\n",
    "#     - technically: a Python object\n",
    "#  - my_text.count(...) = requesting the object to perform a .count(...) function and return the result\n",
    "#     - technically: calling a .count() method"
   ]
  },
  {
   "cell_type": "code",
   "execution_count": 14,
   "metadata": {},
   "outputs": [
    {
     "name": "stderr",
     "output_type": "stream",
     "text": [
      "[nltk_data] Downloading package punkt to\n",
      "[nltk_data]     C:\\Users\\val-p1\\AppData\\Roaming\\nltk_data...\n",
      "[nltk_data]   Package punkt is already up-to-date!\n"
     ]
    },
    {
     "data": {
      "text/plain": [
       "True"
      ]
     },
     "execution_count": 14,
     "metadata": {},
     "output_type": "execute_result"
    }
   ],
   "source": [
    "# We need to download a package containing punctuation before we can tokenize\n",
    "import nltk\n",
    "nltk.download('punkt')"
   ]
  },
  {
   "cell_type": "code",
   "execution_count": 13,
   "metadata": {},
   "outputs": [
    {
     "data": {
      "text/plain": [
       "['NLTK', 'has', 'been', 'called', '“', 'a']"
      ]
     },
     "execution_count": 13,
     "metadata": {},
     "output_type": "execute_result"
    }
   ],
   "source": [
    "# Splitting text into tokens (words, ...) = tokenizing\n",
    "\n",
    "from nltk.tokenize import word_tokenize\n",
    "\n",
    "excerpt = \"NLTK has been called “a wonderful tool for teaching, and working in, computational linguistics using Python,” and “an amazing library to play with natural language.”\"\n",
    "tokens = word_tokenize(excerpt)\n",
    "\n",
    "tokens[:6]"
   ]
  },
  {
   "cell_type": "code",
   "execution_count": 15,
   "metadata": {},
   "outputs": [
    {
     "name": "stdout",
     "output_type": "stream",
     "text": [
      "1\n"
     ]
    }
   ],
   "source": [
    "my_text2 = nltk.Text(tokens)\n",
    "\n",
    "print(my_text2.count(\"NLTK\"))"
   ]
  },
  {
   "cell_type": "markdown",
   "metadata": {},
   "source": [
    "### Downloading NLTK language resources\n",
    "\n",
    "NLTK also contains many language resources (corpora, ...) but you have select and download them separately (in order to save disk space and only download what is needed).\n",
    "\n",
    "Let's download text collections used in the NLTK book: \n",
    "* `nltk.download(\"book\")`\n",
    "\n",
    "Note: you can also download resources interactively:\n",
    "* `nltk.download()`"
   ]
  },
  {
   "cell_type": "code",
   "execution_count": 16,
   "metadata": {},
   "outputs": [
    {
     "name": "stderr",
     "output_type": "stream",
     "text": [
      "[nltk_data] Downloading collection 'book'\n",
      "[nltk_data]    | \n",
      "[nltk_data]    | Downloading package abc to\n",
      "[nltk_data]    |     C:\\Users\\val-p1\\AppData\\Roaming\\nltk_data...\n",
      "[nltk_data]    |   Unzipping corpora\\abc.zip.\n",
      "[nltk_data]    | Downloading package brown to\n",
      "[nltk_data]    |     C:\\Users\\val-p1\\AppData\\Roaming\\nltk_data...\n",
      "[nltk_data]    |   Unzipping corpora\\brown.zip.\n",
      "[nltk_data]    | Downloading package chat80 to\n",
      "[nltk_data]    |     C:\\Users\\val-p1\\AppData\\Roaming\\nltk_data...\n",
      "[nltk_data]    |   Unzipping corpora\\chat80.zip.\n",
      "[nltk_data]    | Downloading package cmudict to\n",
      "[nltk_data]    |     C:\\Users\\val-p1\\AppData\\Roaming\\nltk_data...\n",
      "[nltk_data]    |   Unzipping corpora\\cmudict.zip.\n",
      "[nltk_data]    | Downloading package conll2000 to\n",
      "[nltk_data]    |     C:\\Users\\val-p1\\AppData\\Roaming\\nltk_data...\n",
      "[nltk_data]    |   Unzipping corpora\\conll2000.zip.\n",
      "[nltk_data]    | Downloading package conll2002 to\n",
      "[nltk_data]    |     C:\\Users\\val-p1\\AppData\\Roaming\\nltk_data...\n",
      "[nltk_data]    |   Unzipping corpora\\conll2002.zip.\n",
      "[nltk_data]    | Downloading package dependency_treebank to\n",
      "[nltk_data]    |     C:\\Users\\val-p1\\AppData\\Roaming\\nltk_data...\n",
      "[nltk_data]    |   Unzipping corpora\\dependency_treebank.zip.\n",
      "[nltk_data]    | Downloading package genesis to\n",
      "[nltk_data]    |     C:\\Users\\val-p1\\AppData\\Roaming\\nltk_data...\n",
      "[nltk_data]    |   Unzipping corpora\\genesis.zip.\n",
      "[nltk_data]    | Downloading package gutenberg to\n",
      "[nltk_data]    |     C:\\Users\\val-p1\\AppData\\Roaming\\nltk_data...\n",
      "[nltk_data]    |   Unzipping corpora\\gutenberg.zip.\n",
      "[nltk_data]    | Downloading package ieer to\n",
      "[nltk_data]    |     C:\\Users\\val-p1\\AppData\\Roaming\\nltk_data...\n",
      "[nltk_data]    |   Unzipping corpora\\ieer.zip.\n",
      "[nltk_data]    | Downloading package inaugural to\n",
      "[nltk_data]    |     C:\\Users\\val-p1\\AppData\\Roaming\\nltk_data...\n",
      "[nltk_data]    |   Unzipping corpora\\inaugural.zip.\n",
      "[nltk_data]    | Downloading package movie_reviews to\n",
      "[nltk_data]    |     C:\\Users\\val-p1\\AppData\\Roaming\\nltk_data...\n",
      "[nltk_data]    |   Unzipping corpora\\movie_reviews.zip.\n",
      "[nltk_data]    | Downloading package nps_chat to\n",
      "[nltk_data]    |     C:\\Users\\val-p1\\AppData\\Roaming\\nltk_data...\n",
      "[nltk_data]    |   Unzipping corpora\\nps_chat.zip.\n",
      "[nltk_data]    | Downloading package names to\n",
      "[nltk_data]    |     C:\\Users\\val-p1\\AppData\\Roaming\\nltk_data...\n",
      "[nltk_data]    |   Unzipping corpora\\names.zip.\n",
      "[nltk_data]    | Downloading package ppattach to\n",
      "[nltk_data]    |     C:\\Users\\val-p1\\AppData\\Roaming\\nltk_data...\n",
      "[nltk_data]    |   Unzipping corpora\\ppattach.zip.\n",
      "[nltk_data]    | Downloading package reuters to\n",
      "[nltk_data]    |     C:\\Users\\val-p1\\AppData\\Roaming\\nltk_data...\n",
      "[nltk_data]    | Downloading package senseval to\n",
      "[nltk_data]    |     C:\\Users\\val-p1\\AppData\\Roaming\\nltk_data...\n",
      "[nltk_data]    |   Unzipping corpora\\senseval.zip.\n",
      "[nltk_data]    | Downloading package state_union to\n",
      "[nltk_data]    |     C:\\Users\\val-p1\\AppData\\Roaming\\nltk_data...\n",
      "[nltk_data]    |   Unzipping corpora\\state_union.zip.\n",
      "[nltk_data]    | Downloading package stopwords to\n",
      "[nltk_data]    |     C:\\Users\\val-p1\\AppData\\Roaming\\nltk_data...\n",
      "[nltk_data]    |   Unzipping corpora\\stopwords.zip.\n",
      "[nltk_data]    | Downloading package swadesh to\n",
      "[nltk_data]    |     C:\\Users\\val-p1\\AppData\\Roaming\\nltk_data...\n",
      "[nltk_data]    |   Unzipping corpora\\swadesh.zip.\n",
      "[nltk_data]    | Downloading package timit to\n",
      "[nltk_data]    |     C:\\Users\\val-p1\\AppData\\Roaming\\nltk_data...\n",
      "[nltk_data]    |   Unzipping corpora\\timit.zip.\n",
      "[nltk_data]    | Downloading package treebank to\n",
      "[nltk_data]    |     C:\\Users\\val-p1\\AppData\\Roaming\\nltk_data...\n",
      "[nltk_data]    |   Unzipping corpora\\treebank.zip.\n",
      "[nltk_data]    | Downloading package toolbox to\n",
      "[nltk_data]    |     C:\\Users\\val-p1\\AppData\\Roaming\\nltk_data...\n",
      "[nltk_data]    |   Unzipping corpora\\toolbox.zip.\n",
      "[nltk_data]    | Downloading package udhr to\n",
      "[nltk_data]    |     C:\\Users\\val-p1\\AppData\\Roaming\\nltk_data...\n",
      "[nltk_data]    |   Unzipping corpora\\udhr.zip.\n",
      "[nltk_data]    | Downloading package udhr2 to\n",
      "[nltk_data]    |     C:\\Users\\val-p1\\AppData\\Roaming\\nltk_data...\n",
      "[nltk_data]    |   Unzipping corpora\\udhr2.zip.\n",
      "[nltk_data]    | Downloading package unicode_samples to\n",
      "[nltk_data]    |     C:\\Users\\val-p1\\AppData\\Roaming\\nltk_data...\n",
      "[nltk_data]    |   Unzipping corpora\\unicode_samples.zip.\n",
      "[nltk_data]    | Downloading package webtext to\n",
      "[nltk_data]    |     C:\\Users\\val-p1\\AppData\\Roaming\\nltk_data...\n",
      "[nltk_data]    |   Unzipping corpora\\webtext.zip.\n",
      "[nltk_data]    | Downloading package wordnet to\n",
      "[nltk_data]    |     C:\\Users\\val-p1\\AppData\\Roaming\\nltk_data...\n",
      "[nltk_data]    |   Unzipping corpora\\wordnet.zip.\n",
      "[nltk_data]    | Downloading package wordnet_ic to\n",
      "[nltk_data]    |     C:\\Users\\val-p1\\AppData\\Roaming\\nltk_data...\n",
      "[nltk_data]    |   Unzipping corpora\\wordnet_ic.zip.\n",
      "[nltk_data]    | Downloading package words to\n",
      "[nltk_data]    |     C:\\Users\\val-p1\\AppData\\Roaming\\nltk_data...\n",
      "[nltk_data]    |   Unzipping corpora\\words.zip.\n",
      "[nltk_data]    | Downloading package maxent_treebank_pos_tagger to\n",
      "[nltk_data]    |     C:\\Users\\val-p1\\AppData\\Roaming\\nltk_data...\n",
      "[nltk_data]    |   Unzipping taggers\\maxent_treebank_pos_tagger.zip.\n",
      "[nltk_data]    | Downloading package maxent_ne_chunker to\n",
      "[nltk_data]    |     C:\\Users\\val-p1\\AppData\\Roaming\\nltk_data...\n",
      "[nltk_data]    |   Unzipping chunkers\\maxent_ne_chunker.zip.\n",
      "[nltk_data]    | Downloading package universal_tagset to\n",
      "[nltk_data]    |     C:\\Users\\val-p1\\AppData\\Roaming\\nltk_data...\n",
      "[nltk_data]    |   Unzipping taggers\\universal_tagset.zip.\n",
      "[nltk_data]    | Downloading package punkt to\n",
      "[nltk_data]    |     C:\\Users\\val-p1\\AppData\\Roaming\\nltk_data...\n",
      "[nltk_data]    |   Package punkt is already up-to-date!\n",
      "[nltk_data]    | Downloading package book_grammars to\n",
      "[nltk_data]    |     C:\\Users\\val-p1\\AppData\\Roaming\\nltk_data...\n",
      "[nltk_data]    |   Unzipping grammars\\book_grammars.zip.\n",
      "[nltk_data]    | Downloading package city_database to\n",
      "[nltk_data]    |     C:\\Users\\val-p1\\AppData\\Roaming\\nltk_data...\n",
      "[nltk_data]    |   Unzipping corpora\\city_database.zip.\n",
      "[nltk_data]    | Downloading package tagsets to\n",
      "[nltk_data]    |     C:\\Users\\val-p1\\AppData\\Roaming\\nltk_data...\n",
      "[nltk_data]    |   Unzipping help\\tagsets.zip.\n",
      "[nltk_data]    | Downloading package panlex_swadesh to\n",
      "[nltk_data]    |     C:\\Users\\val-p1\\AppData\\Roaming\\nltk_data...\n",
      "[nltk_data]    | Downloading package averaged_perceptron_tagger to\n",
      "[nltk_data]    |     C:\\Users\\val-p1\\AppData\\Roaming\\nltk_data...\n",
      "[nltk_data]    |   Unzipping taggers\\averaged_perceptron_tagger.zip.\n",
      "[nltk_data]    | \n",
      "[nltk_data]  Done downloading collection book\n"
     ]
    },
    {
     "data": {
      "text/plain": [
       "True"
      ]
     },
     "execution_count": 16,
     "metadata": {},
     "output_type": "execute_result"
    }
   ],
   "source": [
    "# this is a big download of all book packages\n",
    "nltk.download(\"book\")"
   ]
  },
  {
   "cell_type": "code",
   "execution_count": 17,
   "metadata": {},
   "outputs": [
    {
     "name": "stdout",
     "output_type": "stream",
     "text": [
      "*** Introductory Examples for the NLTK Book ***\n",
      "Loading text1, ..., text9 and sent1, ..., sent9\n",
      "Type the name of the text or sentence to view it.\n",
      "Type: 'texts()' or 'sents()' to list the materials.\n",
      "text1: Moby Dick by Herman Melville 1851\n",
      "text2: Sense and Sensibility by Jane Austen 1811\n",
      "text3: The Book of Genesis\n",
      "text4: Inaugural Address Corpus\n",
      "text5: Chat Corpus\n",
      "text6: Monty Python and the Holy Grail\n",
      "text7: Wall Street Journal\n",
      "text8: Personals Corpus\n",
      "text9: The Man Who Was Thursday by G . K . Chesterton 1908\n"
     ]
    }
   ],
   "source": [
    "# After downloading the reources we still need to import them\n",
    "\n",
    "# Let's import all NLTK book resource (*)\n",
    "from nltk.book import *"
   ]
  },
  {
   "cell_type": "markdown",
   "metadata": {},
   "source": [
    "## 2) Exploring textual content"
   ]
  },
  {
   "cell_type": "code",
   "execution_count": 18,
   "metadata": {},
   "outputs": [
    {
     "data": {
      "text/plain": [
       "nltk.text.Text"
      ]
     },
     "execution_count": 18,
     "metadata": {},
     "output_type": "execute_result"
    }
   ],
   "source": [
    "# text1, ... resources are of type nltk.Text (same as in the earlier example):\n",
    "\n",
    "type(text1)"
   ]
  },
  {
   "cell_type": "code",
   "execution_count": 19,
   "metadata": {},
   "outputs": [
    {
     "name": "stdout",
     "output_type": "stream",
     "text": [
      "906\n"
     ]
    }
   ],
   "source": [
    "# We can run all methods that nltk.Text has.\n",
    "\n",
    "# Count words:\n",
    "print(text1.count(\"whale\"))"
   ]
  },
  {
   "cell_type": "code",
   "execution_count": 20,
   "metadata": {},
   "outputs": [
    {
     "name": "stdout",
     "output_type": "stream",
     "text": [
      "Displaying 7 of 7 matches:\n",
      "cean , in order , if possible , to discover a passage through it to India , th\n",
      " throw at the whales , in order to discover when they were nigh enough to risk\n",
      "for ever reach new distances , and discover sights more sweet and strange than\n",
      "gs upon the plain , you will often discover images as of the petrified forms o\n",
      " over numberless unknown worlds to discover his one superficial western one ; \n",
      "se two heads for hours , and never discover that organ . The ear has no extern\n",
      "s keener than man ' s ; Ahab could discover no sign in the sea . But suddenly \n"
     ]
    }
   ],
   "source": [
    "# https://www.nltk.org/api/nltk.html#nltk.text.Text.concordance\n",
    "\n",
    "# Print concordance view (occurences of a word, in context):\n",
    "text1.concordance(\"discover\")"
   ]
  },
  {
   "cell_type": "code",
   "execution_count": 21,
   "metadata": {},
   "outputs": [
    {
     "name": "stdout",
     "output_type": "stream",
     "text": [
      "Displaying 25 of 316 matches:\n",
      " to the character of an independent nation seems to have been distinguished by\n",
      "f Heaven can never be expected on a nation that disregards the eternal rules o\n",
      "first , the representatives of this nation , then consisting of little more th\n",
      ", situation , and relations of this nation and country than any which had ever\n",
      ", prosperity , and happiness of the nation I have acquired an habitual attachm\n",
      "an be no spectacle presented by any nation more pleasing , more noble , majest\n",
      "party for its own ends , not of the nation for the national good . If that sol\n",
      "tures and the people throughout the nation . On this subject it might become m\n",
      "if a personal esteem for the French nation , formed in a residence of seven ye\n",
      "f our fellow - citizens by whatever nation , and if success can not be obtaine\n",
      "y , continue His blessing upon this nation and its Government and give it all \n",
      "powers so justly inspire . A rising nation , spread over a wide and fruitful l\n",
      "ing now decided by the voice of the nation , announced according to the rules \n",
      "ars witness to the fact that a just nation is trusted on its word when recours\n",
      "e union of opinion which gives to a nation the blessing of harmony and the ben\n",
      "uil suffrage of a free and virtuous nation , would under any circumstances hav\n",
      "d spirit and united councils of the nation will be safeguards to its honor and\n",
      "iction that the war with a powerful nation , which forms so prominent a featur\n",
      "out breaking down the spirit of the nation , destroying all confidence in itse\n",
      "ed on the military resources of the nation . These resources are amply suffici\n",
      "the war to an honorable issue . Our nation is in number more than half that of\n",
      "ndividually have been happy and the nation prosperous . Under this Constitutio\n",
      "rights , and is able to protect the nation against injustice from foreign powe\n",
      " great agricultural interest of the nation prospers under its protection . Loc\n",
      "ak our Union , and demolish us as a nation . Our distance from Europe and the \n"
     ]
    }
   ],
   "source": [
    "text4.concordance(\"nation\")"
   ]
  },
  {
   "cell_type": "code",
   "execution_count": 22,
   "metadata": {
    "scrolled": true
   },
   "outputs": [
    {
     "name": "stdout",
     "output_type": "stream",
     "text": [
      "country people government world union time constitution states\n",
      "republic land law party earth other future president war executive\n",
      "congress peace\n"
     ]
    }
   ],
   "source": [
    "# https://www.nltk.org/api/nltk.html#nltk.text.Text.similar\n",
    "\n",
    "# Print words that appear in similar context as \"nation\".\n",
    "text4.similar(\"nation\")"
   ]
  },
  {
   "cell_type": "code",
   "execution_count": 23,
   "metadata": {},
   "outputs": [
    {
     "name": "stdout",
     "output_type": "stream",
     "text": [
      "that_, a_, every_, by_or that_; of_; the_previous by_, -_, of_. the_,\n",
      "one_, all_. the_. this_in all_in the_before after_, the_wore\n",
      "through_into\n"
     ]
    }
   ],
   "source": [
    "# https://www.nltk.org/api/nltk.html#nltk.text.Text.common_contexts\n",
    "\n",
    "# Find contexts common to all given words\n",
    "text1.common_contexts([\"day\", \"night\"])\n"
   ]
  },
  {
   "cell_type": "markdown",
   "metadata": {},
   "source": [
    "## Your turn!\n",
    "\n",
    "Choose some text and **explore it using NLTK** (following the examples in this notebook).\n",
    "\n",
    "**Write code in notebook cells below** (between \"Your turn\" and \"Side note\").\n",
    "* add more cells (use \"+\" icon) if necessary\n",
    "\n",
    "You can also load your own text."
   ]
  },
  {
   "cell_type": "code",
   "execution_count": null,
   "metadata": {},
   "outputs": [],
   "source": []
  },
  {
   "cell_type": "code",
   "execution_count": null,
   "metadata": {},
   "outputs": [],
   "source": []
  },
  {
   "cell_type": "markdown",
   "metadata": {},
   "source": [
    "### Side note: Python lists\n",
    "\n",
    "A *list* contains multiple values in an ordered sequence.\n",
    "\n",
    "More about Python lists:\n",
    "* https://automatetheboringstuff.com/chapter4/"
   ]
  },
  {
   "cell_type": "code",
   "execution_count": 24,
   "metadata": {},
   "outputs": [
    {
     "name": "stdout",
     "output_type": "stream",
     "text": [
      "42\n"
     ]
    }
   ],
   "source": [
    "# nltk.Text is also a list - can do everything we can do with lists (access parts of it, ...)\n",
    "\n",
    "# What's the 1st occurence of \"He\" in the text?\n",
    "#  - note: Python is case sensitive (unless you take care of it - e.g. convert all text to lowercase)\n",
    "\n",
    "print(text1.index(\"He\"))"
   ]
  },
  {
   "cell_type": "code",
   "execution_count": 25,
   "metadata": {},
   "outputs": [
    {
     "name": "stdout",
     "output_type": "stream",
     "text": [
      "He\n"
     ]
    }
   ],
   "source": [
    "# The word at position #42\n",
    "#  - note: list indexes start from 0\n",
    "\n",
    "print(text1[42])"
   ]
  },
  {
   "cell_type": "code",
   "execution_count": 26,
   "metadata": {},
   "outputs": [
    {
     "name": "stdout",
     "output_type": "stream",
     "text": [
      "['He', 'was', 'ever', 'dusting', 'his', 'old', 'lexicons', 'and', 'grammars', ',']\n"
     ]
    }
   ],
   "source": [
    "print(text1[42:52])"
   ]
  },
  {
   "cell_type": "markdown",
   "metadata": {},
   "source": [
    "## Further exploration\n",
    "\n",
    "* Dispersion plots (distribution of words throughout the text)\n",
    "* Generating text (based on example)"
   ]
  },
  {
   "cell_type": "code",
   "execution_count": 35,
   "metadata": {},
   "outputs": [
    {
     "name": "stdout",
     "output_type": "stream",
     "text": [
      "Help on method generate in module nltk.text:\n",
      "\n",
      "generate(words) method of nltk.text.Text instance\n",
      "    Issues a reminder to users following the book online\n",
      "\n"
     ]
    }
   ],
   "source": [
    "help(text1.generate)"
   ]
  },
  {
   "cell_type": "code",
   "execution_count": 28,
   "metadata": {},
   "outputs": [],
   "source": [
    "# Generate text (based on example)\n",
    "# https://www.nltk.org/api/nltk.html#nltk.text.Text.generate\n",
    "\n",
    "# we need to supply seed words (old seed_words is apparently depreceated)\n",
    "text1.generate([\"Why\", \"is\", \"it\"])"
   ]
  },
  {
   "cell_type": "code",
   "execution_count": 36,
   "metadata": {},
   "outputs": [
    {
     "data": {
      "text/plain": [
       "260819"
      ]
     },
     "execution_count": 36,
     "metadata": {},
     "output_type": "execute_result"
    }
   ],
   "source": [
    "len(text1)"
   ]
  },
  {
   "cell_type": "code",
   "execution_count": 40,
   "metadata": {},
   "outputs": [],
   "source": [
    "text1.generate(100)"
   ]
  },
  {
   "cell_type": "code",
   "execution_count": 39,
   "metadata": {},
   "outputs": [
    {
     "data": {
      "text/plain": [
       "['[',\n",
       " 'Moby',\n",
       " 'Dick',\n",
       " 'by',\n",
       " 'Herman',\n",
       " 'Melville',\n",
       " '1851',\n",
       " ']',\n",
       " 'ETYMOLOGY',\n",
       " '.',\n",
       " '(',\n",
       " 'Supplied',\n",
       " 'by',\n",
       " 'a',\n",
       " 'Late',\n",
       " 'Consumptive',\n",
       " 'Usher',\n",
       " 'to',\n",
       " 'a',\n",
       " 'Grammar',\n",
       " 'School',\n",
       " ')',\n",
       " 'The',\n",
       " 'pale',\n",
       " 'Usher',\n",
       " '--',\n",
       " 'threadbare',\n",
       " 'in',\n",
       " 'coat',\n",
       " ',',\n",
       " 'heart',\n",
       " ',',\n",
       " 'body',\n",
       " ',',\n",
       " 'and',\n",
       " 'brain',\n",
       " ';',\n",
       " 'I',\n",
       " 'see',\n",
       " 'him',\n",
       " 'now',\n",
       " '.',\n",
       " 'He',\n",
       " 'was',\n",
       " 'ever',\n",
       " 'dusting',\n",
       " 'his',\n",
       " 'old',\n",
       " 'lexicons',\n",
       " 'and',\n",
       " 'grammars',\n",
       " ',',\n",
       " 'with',\n",
       " 'a',\n",
       " 'queer',\n",
       " 'handkerchief',\n",
       " ',',\n",
       " 'mockingly',\n",
       " 'embellished',\n",
       " 'with',\n",
       " 'all',\n",
       " 'the',\n",
       " 'gay',\n",
       " 'flags',\n",
       " 'of',\n",
       " 'all',\n",
       " 'the',\n",
       " 'known',\n",
       " 'nations',\n",
       " 'of',\n",
       " 'the',\n",
       " 'world',\n",
       " '.',\n",
       " 'He',\n",
       " 'loved',\n",
       " 'to',\n",
       " 'dust',\n",
       " 'his',\n",
       " 'old',\n",
       " 'grammars',\n",
       " ';',\n",
       " 'it',\n",
       " 'somehow',\n",
       " 'mildly',\n",
       " 'reminded',\n",
       " 'him',\n",
       " 'of',\n",
       " 'his',\n",
       " 'mortality',\n",
       " '.',\n",
       " '\"',\n",
       " 'While',\n",
       " 'you',\n",
       " 'take',\n",
       " 'in',\n",
       " 'hand',\n",
       " 'to',\n",
       " 'school',\n",
       " 'others',\n",
       " ',']"
      ]
     },
     "execution_count": 39,
     "metadata": {},
     "output_type": "execute_result"
    }
   ],
   "source": [
    "text1[:100]"
   ]
  },
  {
   "cell_type": "code",
   "execution_count": 29,
   "metadata": {},
   "outputs": [
    {
     "ename": "AttributeError",
     "evalue": "module 'nltk' has no attribute 'lm'",
     "output_type": "error",
     "traceback": [
      "\u001b[1;31m---------------------------------------------------------------------------\u001b[0m",
      "\u001b[1;31mAttributeError\u001b[0m                            Traceback (most recent call last)",
      "\u001b[1;32m<ipython-input-29-39f235a2f516>\u001b[0m in \u001b[0;36m<module>\u001b[1;34m\u001b[0m\n\u001b[0;32m      5\u001b[0m \u001b[1;31m# https://www.nltk.org/api/nltk.lm.html\u001b[0m\u001b[1;33m\u001b[0m\u001b[1;33m\u001b[0m\u001b[1;33m\u001b[0m\u001b[0m\n\u001b[0;32m      6\u001b[0m \u001b[1;33m\u001b[0m\u001b[0m\n\u001b[1;32m----> 7\u001b[1;33m \u001b[0mhelp\u001b[0m\u001b[1;33m(\u001b[0m\u001b[0mnltk\u001b[0m\u001b[1;33m.\u001b[0m\u001b[0mlm\u001b[0m\u001b[1;33m)\u001b[0m\u001b[1;33m\u001b[0m\u001b[1;33m\u001b[0m\u001b[0m\n\u001b[0m",
      "\u001b[1;31mAttributeError\u001b[0m: module 'nltk' has no attribute 'lm'"
     ]
    }
   ],
   "source": [
    "# generate() builds a [trigram] language model from the supplied text.\n",
    "#  - words are generated based on previous two words \n",
    "\n",
    "# For more information see nltk.lm:\n",
    "# https://www.nltk.org/api/nltk.lm.html\n",
    "\n",
    "help(nltk.lm)"
   ]
  },
  {
   "cell_type": "code",
   "execution_count": 33,
   "metadata": {},
   "outputs": [
    {
     "name": "stdout",
     "output_type": "stream",
     "text": [
      "Help on function accuracy in module nltk.metrics.scores:\n",
      "\n",
      "accuracy(reference, test)\n",
      "    Given a list of reference values and a corresponding list of test\n",
      "    values, return the fraction of corresponding values that are\n",
      "    equal.  In particular, return the fraction of indices\n",
      "    ``0<i<=len(test)`` such that ``test[i] == reference[i]``.\n",
      "    \n",
      "    :type reference: list\n",
      "    :param reference: An ordered list of reference values.\n",
      "    :type test: list\n",
      "    :param test: A list of values to compare against the corresponding\n",
      "        reference values.\n",
      "    :raise ValueError: If ``reference`` and ``length`` do not have the\n",
      "        same length.\n",
      "\n"
     ]
    }
   ],
   "source": [
    "help(nltk.accuracy)"
   ]
  },
  {
   "cell_type": "code",
   "execution_count": 34,
   "metadata": {},
   "outputs": [
    {
     "name": "stdout",
     "output_type": "stream",
     "text": [
      "Help on method dispersion_plot in module nltk.text:\n",
      "\n",
      "dispersion_plot(words) method of nltk.text.Text instance\n",
      "    Produce a plot showing the distribution of the words through the text.\n",
      "    Requires pylab to be installed.\n",
      "    \n",
      "    :param words: The words to be plotted\n",
      "    :type words: list(str)\n",
      "    :seealso: nltk.draw.dispersion_plot()\n",
      "\n"
     ]
    }
   ],
   "source": [
    "help(text4.dispersion_plot)"
   ]
  },
  {
   "cell_type": "code",
   "execution_count": 32,
   "metadata": {},
   "outputs": [
    {
     "data": {
      "application/javascript": [
       "/* Put everything inside the global mpl namespace */\n",
       "window.mpl = {};\n",
       "\n",
       "\n",
       "mpl.get_websocket_type = function() {\n",
       "    if (typeof(WebSocket) !== 'undefined') {\n",
       "        return WebSocket;\n",
       "    } else if (typeof(MozWebSocket) !== 'undefined') {\n",
       "        return MozWebSocket;\n",
       "    } else {\n",
       "        alert('Your browser does not have WebSocket support.' +\n",
       "              'Please try Chrome, Safari or Firefox ≥ 6. ' +\n",
       "              'Firefox 4 and 5 are also supported but you ' +\n",
       "              'have to enable WebSockets in about:config.');\n",
       "    };\n",
       "}\n",
       "\n",
       "mpl.figure = function(figure_id, websocket, ondownload, parent_element) {\n",
       "    this.id = figure_id;\n",
       "\n",
       "    this.ws = websocket;\n",
       "\n",
       "    this.supports_binary = (this.ws.binaryType != undefined);\n",
       "\n",
       "    if (!this.supports_binary) {\n",
       "        var warnings = document.getElementById(\"mpl-warnings\");\n",
       "        if (warnings) {\n",
       "            warnings.style.display = 'block';\n",
       "            warnings.textContent = (\n",
       "                \"This browser does not support binary websocket messages. \" +\n",
       "                    \"Performance may be slow.\");\n",
       "        }\n",
       "    }\n",
       "\n",
       "    this.imageObj = new Image();\n",
       "\n",
       "    this.context = undefined;\n",
       "    this.message = undefined;\n",
       "    this.canvas = undefined;\n",
       "    this.rubberband_canvas = undefined;\n",
       "    this.rubberband_context = undefined;\n",
       "    this.format_dropdown = undefined;\n",
       "\n",
       "    this.image_mode = 'full';\n",
       "\n",
       "    this.root = $('<div/>');\n",
       "    this._root_extra_style(this.root)\n",
       "    this.root.attr('style', 'display: inline-block');\n",
       "\n",
       "    $(parent_element).append(this.root);\n",
       "\n",
       "    this._init_header(this);\n",
       "    this._init_canvas(this);\n",
       "    this._init_toolbar(this);\n",
       "\n",
       "    var fig = this;\n",
       "\n",
       "    this.waiting = false;\n",
       "\n",
       "    this.ws.onopen =  function () {\n",
       "            fig.send_message(\"supports_binary\", {value: fig.supports_binary});\n",
       "            fig.send_message(\"send_image_mode\", {});\n",
       "            if (mpl.ratio != 1) {\n",
       "                fig.send_message(\"set_dpi_ratio\", {'dpi_ratio': mpl.ratio});\n",
       "            }\n",
       "            fig.send_message(\"refresh\", {});\n",
       "        }\n",
       "\n",
       "    this.imageObj.onload = function() {\n",
       "            if (fig.image_mode == 'full') {\n",
       "                // Full images could contain transparency (where diff images\n",
       "                // almost always do), so we need to clear the canvas so that\n",
       "                // there is no ghosting.\n",
       "                fig.context.clearRect(0, 0, fig.canvas.width, fig.canvas.height);\n",
       "            }\n",
       "            fig.context.drawImage(fig.imageObj, 0, 0);\n",
       "        };\n",
       "\n",
       "    this.imageObj.onunload = function() {\n",
       "        fig.ws.close();\n",
       "    }\n",
       "\n",
       "    this.ws.onmessage = this._make_on_message_function(this);\n",
       "\n",
       "    this.ondownload = ondownload;\n",
       "}\n",
       "\n",
       "mpl.figure.prototype._init_header = function() {\n",
       "    var titlebar = $(\n",
       "        '<div class=\"ui-dialog-titlebar ui-widget-header ui-corner-all ' +\n",
       "        'ui-helper-clearfix\"/>');\n",
       "    var titletext = $(\n",
       "        '<div class=\"ui-dialog-title\" style=\"width: 100%; ' +\n",
       "        'text-align: center; padding: 3px;\"/>');\n",
       "    titlebar.append(titletext)\n",
       "    this.root.append(titlebar);\n",
       "    this.header = titletext[0];\n",
       "}\n",
       "\n",
       "\n",
       "\n",
       "mpl.figure.prototype._canvas_extra_style = function(canvas_div) {\n",
       "\n",
       "}\n",
       "\n",
       "\n",
       "mpl.figure.prototype._root_extra_style = function(canvas_div) {\n",
       "\n",
       "}\n",
       "\n",
       "mpl.figure.prototype._init_canvas = function() {\n",
       "    var fig = this;\n",
       "\n",
       "    var canvas_div = $('<div/>');\n",
       "\n",
       "    canvas_div.attr('style', 'position: relative; clear: both; outline: 0');\n",
       "\n",
       "    function canvas_keyboard_event(event) {\n",
       "        return fig.key_event(event, event['data']);\n",
       "    }\n",
       "\n",
       "    canvas_div.keydown('key_press', canvas_keyboard_event);\n",
       "    canvas_div.keyup('key_release', canvas_keyboard_event);\n",
       "    this.canvas_div = canvas_div\n",
       "    this._canvas_extra_style(canvas_div)\n",
       "    this.root.append(canvas_div);\n",
       "\n",
       "    var canvas = $('<canvas/>');\n",
       "    canvas.addClass('mpl-canvas');\n",
       "    canvas.attr('style', \"left: 0; top: 0; z-index: 0; outline: 0\")\n",
       "\n",
       "    this.canvas = canvas[0];\n",
       "    this.context = canvas[0].getContext(\"2d\");\n",
       "\n",
       "    var backingStore = this.context.backingStorePixelRatio ||\n",
       "\tthis.context.webkitBackingStorePixelRatio ||\n",
       "\tthis.context.mozBackingStorePixelRatio ||\n",
       "\tthis.context.msBackingStorePixelRatio ||\n",
       "\tthis.context.oBackingStorePixelRatio ||\n",
       "\tthis.context.backingStorePixelRatio || 1;\n",
       "\n",
       "    mpl.ratio = (window.devicePixelRatio || 1) / backingStore;\n",
       "\n",
       "    var rubberband = $('<canvas/>');\n",
       "    rubberband.attr('style', \"position: absolute; left: 0; top: 0; z-index: 1;\")\n",
       "\n",
       "    var pass_mouse_events = true;\n",
       "\n",
       "    canvas_div.resizable({\n",
       "        start: function(event, ui) {\n",
       "            pass_mouse_events = false;\n",
       "        },\n",
       "        resize: function(event, ui) {\n",
       "            fig.request_resize(ui.size.width, ui.size.height);\n",
       "        },\n",
       "        stop: function(event, ui) {\n",
       "            pass_mouse_events = true;\n",
       "            fig.request_resize(ui.size.width, ui.size.height);\n",
       "        },\n",
       "    });\n",
       "\n",
       "    function mouse_event_fn(event) {\n",
       "        if (pass_mouse_events)\n",
       "            return fig.mouse_event(event, event['data']);\n",
       "    }\n",
       "\n",
       "    rubberband.mousedown('button_press', mouse_event_fn);\n",
       "    rubberband.mouseup('button_release', mouse_event_fn);\n",
       "    // Throttle sequential mouse events to 1 every 20ms.\n",
       "    rubberband.mousemove('motion_notify', mouse_event_fn);\n",
       "\n",
       "    rubberband.mouseenter('figure_enter', mouse_event_fn);\n",
       "    rubberband.mouseleave('figure_leave', mouse_event_fn);\n",
       "\n",
       "    canvas_div.on(\"wheel\", function (event) {\n",
       "        event = event.originalEvent;\n",
       "        event['data'] = 'scroll'\n",
       "        if (event.deltaY < 0) {\n",
       "            event.step = 1;\n",
       "        } else {\n",
       "            event.step = -1;\n",
       "        }\n",
       "        mouse_event_fn(event);\n",
       "    });\n",
       "\n",
       "    canvas_div.append(canvas);\n",
       "    canvas_div.append(rubberband);\n",
       "\n",
       "    this.rubberband = rubberband;\n",
       "    this.rubberband_canvas = rubberband[0];\n",
       "    this.rubberband_context = rubberband[0].getContext(\"2d\");\n",
       "    this.rubberband_context.strokeStyle = \"#000000\";\n",
       "\n",
       "    this._resize_canvas = function(width, height) {\n",
       "        // Keep the size of the canvas, canvas container, and rubber band\n",
       "        // canvas in synch.\n",
       "        canvas_div.css('width', width)\n",
       "        canvas_div.css('height', height)\n",
       "\n",
       "        canvas.attr('width', width * mpl.ratio);\n",
       "        canvas.attr('height', height * mpl.ratio);\n",
       "        canvas.attr('style', 'width: ' + width + 'px; height: ' + height + 'px;');\n",
       "\n",
       "        rubberband.attr('width', width);\n",
       "        rubberband.attr('height', height);\n",
       "    }\n",
       "\n",
       "    // Set the figure to an initial 600x600px, this will subsequently be updated\n",
       "    // upon first draw.\n",
       "    this._resize_canvas(600, 600);\n",
       "\n",
       "    // Disable right mouse context menu.\n",
       "    $(this.rubberband_canvas).bind(\"contextmenu\",function(e){\n",
       "        return false;\n",
       "    });\n",
       "\n",
       "    function set_focus () {\n",
       "        canvas.focus();\n",
       "        canvas_div.focus();\n",
       "    }\n",
       "\n",
       "    window.setTimeout(set_focus, 100);\n",
       "}\n",
       "\n",
       "mpl.figure.prototype._init_toolbar = function() {\n",
       "    var fig = this;\n",
       "\n",
       "    var nav_element = $('<div/>')\n",
       "    nav_element.attr('style', 'width: 100%');\n",
       "    this.root.append(nav_element);\n",
       "\n",
       "    // Define a callback function for later on.\n",
       "    function toolbar_event(event) {\n",
       "        return fig.toolbar_button_onclick(event['data']);\n",
       "    }\n",
       "    function toolbar_mouse_event(event) {\n",
       "        return fig.toolbar_button_onmouseover(event['data']);\n",
       "    }\n",
       "\n",
       "    for(var toolbar_ind in mpl.toolbar_items) {\n",
       "        var name = mpl.toolbar_items[toolbar_ind][0];\n",
       "        var tooltip = mpl.toolbar_items[toolbar_ind][1];\n",
       "        var image = mpl.toolbar_items[toolbar_ind][2];\n",
       "        var method_name = mpl.toolbar_items[toolbar_ind][3];\n",
       "\n",
       "        if (!name) {\n",
       "            // put a spacer in here.\n",
       "            continue;\n",
       "        }\n",
       "        var button = $('<button/>');\n",
       "        button.addClass('ui-button ui-widget ui-state-default ui-corner-all ' +\n",
       "                        'ui-button-icon-only');\n",
       "        button.attr('role', 'button');\n",
       "        button.attr('aria-disabled', 'false');\n",
       "        button.click(method_name, toolbar_event);\n",
       "        button.mouseover(tooltip, toolbar_mouse_event);\n",
       "\n",
       "        var icon_img = $('<span/>');\n",
       "        icon_img.addClass('ui-button-icon-primary ui-icon');\n",
       "        icon_img.addClass(image);\n",
       "        icon_img.addClass('ui-corner-all');\n",
       "\n",
       "        var tooltip_span = $('<span/>');\n",
       "        tooltip_span.addClass('ui-button-text');\n",
       "        tooltip_span.html(tooltip);\n",
       "\n",
       "        button.append(icon_img);\n",
       "        button.append(tooltip_span);\n",
       "\n",
       "        nav_element.append(button);\n",
       "    }\n",
       "\n",
       "    var fmt_picker_span = $('<span/>');\n",
       "\n",
       "    var fmt_picker = $('<select/>');\n",
       "    fmt_picker.addClass('mpl-toolbar-option ui-widget ui-widget-content');\n",
       "    fmt_picker_span.append(fmt_picker);\n",
       "    nav_element.append(fmt_picker_span);\n",
       "    this.format_dropdown = fmt_picker[0];\n",
       "\n",
       "    for (var ind in mpl.extensions) {\n",
       "        var fmt = mpl.extensions[ind];\n",
       "        var option = $(\n",
       "            '<option/>', {selected: fmt === mpl.default_extension}).html(fmt);\n",
       "        fmt_picker.append(option)\n",
       "    }\n",
       "\n",
       "    // Add hover states to the ui-buttons\n",
       "    $( \".ui-button\" ).hover(\n",
       "        function() { $(this).addClass(\"ui-state-hover\");},\n",
       "        function() { $(this).removeClass(\"ui-state-hover\");}\n",
       "    );\n",
       "\n",
       "    var status_bar = $('<span class=\"mpl-message\"/>');\n",
       "    nav_element.append(status_bar);\n",
       "    this.message = status_bar[0];\n",
       "}\n",
       "\n",
       "mpl.figure.prototype.request_resize = function(x_pixels, y_pixels) {\n",
       "    // Request matplotlib to resize the figure. Matplotlib will then trigger a resize in the client,\n",
       "    // which will in turn request a refresh of the image.\n",
       "    this.send_message('resize', {'width': x_pixels, 'height': y_pixels});\n",
       "}\n",
       "\n",
       "mpl.figure.prototype.send_message = function(type, properties) {\n",
       "    properties['type'] = type;\n",
       "    properties['figure_id'] = this.id;\n",
       "    this.ws.send(JSON.stringify(properties));\n",
       "}\n",
       "\n",
       "mpl.figure.prototype.send_draw_message = function() {\n",
       "    if (!this.waiting) {\n",
       "        this.waiting = true;\n",
       "        this.ws.send(JSON.stringify({type: \"draw\", figure_id: this.id}));\n",
       "    }\n",
       "}\n",
       "\n",
       "\n",
       "mpl.figure.prototype.handle_save = function(fig, msg) {\n",
       "    var format_dropdown = fig.format_dropdown;\n",
       "    var format = format_dropdown.options[format_dropdown.selectedIndex].value;\n",
       "    fig.ondownload(fig, format);\n",
       "}\n",
       "\n",
       "\n",
       "mpl.figure.prototype.handle_resize = function(fig, msg) {\n",
       "    var size = msg['size'];\n",
       "    if (size[0] != fig.canvas.width || size[1] != fig.canvas.height) {\n",
       "        fig._resize_canvas(size[0], size[1]);\n",
       "        fig.send_message(\"refresh\", {});\n",
       "    };\n",
       "}\n",
       "\n",
       "mpl.figure.prototype.handle_rubberband = function(fig, msg) {\n",
       "    var x0 = msg['x0'] / mpl.ratio;\n",
       "    var y0 = (fig.canvas.height - msg['y0']) / mpl.ratio;\n",
       "    var x1 = msg['x1'] / mpl.ratio;\n",
       "    var y1 = (fig.canvas.height - msg['y1']) / mpl.ratio;\n",
       "    x0 = Math.floor(x0) + 0.5;\n",
       "    y0 = Math.floor(y0) + 0.5;\n",
       "    x1 = Math.floor(x1) + 0.5;\n",
       "    y1 = Math.floor(y1) + 0.5;\n",
       "    var min_x = Math.min(x0, x1);\n",
       "    var min_y = Math.min(y0, y1);\n",
       "    var width = Math.abs(x1 - x0);\n",
       "    var height = Math.abs(y1 - y0);\n",
       "\n",
       "    fig.rubberband_context.clearRect(\n",
       "        0, 0, fig.canvas.width, fig.canvas.height);\n",
       "\n",
       "    fig.rubberband_context.strokeRect(min_x, min_y, width, height);\n",
       "}\n",
       "\n",
       "mpl.figure.prototype.handle_figure_label = function(fig, msg) {\n",
       "    // Updates the figure title.\n",
       "    fig.header.textContent = msg['label'];\n",
       "}\n",
       "\n",
       "mpl.figure.prototype.handle_cursor = function(fig, msg) {\n",
       "    var cursor = msg['cursor'];\n",
       "    switch(cursor)\n",
       "    {\n",
       "    case 0:\n",
       "        cursor = 'pointer';\n",
       "        break;\n",
       "    case 1:\n",
       "        cursor = 'default';\n",
       "        break;\n",
       "    case 2:\n",
       "        cursor = 'crosshair';\n",
       "        break;\n",
       "    case 3:\n",
       "        cursor = 'move';\n",
       "        break;\n",
       "    }\n",
       "    fig.rubberband_canvas.style.cursor = cursor;\n",
       "}\n",
       "\n",
       "mpl.figure.prototype.handle_message = function(fig, msg) {\n",
       "    fig.message.textContent = msg['message'];\n",
       "}\n",
       "\n",
       "mpl.figure.prototype.handle_draw = function(fig, msg) {\n",
       "    // Request the server to send over a new figure.\n",
       "    fig.send_draw_message();\n",
       "}\n",
       "\n",
       "mpl.figure.prototype.handle_image_mode = function(fig, msg) {\n",
       "    fig.image_mode = msg['mode'];\n",
       "}\n",
       "\n",
       "mpl.figure.prototype.updated_canvas_event = function() {\n",
       "    // Called whenever the canvas gets updated.\n",
       "    this.send_message(\"ack\", {});\n",
       "}\n",
       "\n",
       "// A function to construct a web socket function for onmessage handling.\n",
       "// Called in the figure constructor.\n",
       "mpl.figure.prototype._make_on_message_function = function(fig) {\n",
       "    return function socket_on_message(evt) {\n",
       "        if (evt.data instanceof Blob) {\n",
       "            /* FIXME: We get \"Resource interpreted as Image but\n",
       "             * transferred with MIME type text/plain:\" errors on\n",
       "             * Chrome.  But how to set the MIME type?  It doesn't seem\n",
       "             * to be part of the websocket stream */\n",
       "            evt.data.type = \"image/png\";\n",
       "\n",
       "            /* Free the memory for the previous frames */\n",
       "            if (fig.imageObj.src) {\n",
       "                (window.URL || window.webkitURL).revokeObjectURL(\n",
       "                    fig.imageObj.src);\n",
       "            }\n",
       "\n",
       "            fig.imageObj.src = (window.URL || window.webkitURL).createObjectURL(\n",
       "                evt.data);\n",
       "            fig.updated_canvas_event();\n",
       "            fig.waiting = false;\n",
       "            return;\n",
       "        }\n",
       "        else if (typeof evt.data === 'string' && evt.data.slice(0, 21) == \"data:image/png;base64\") {\n",
       "            fig.imageObj.src = evt.data;\n",
       "            fig.updated_canvas_event();\n",
       "            fig.waiting = false;\n",
       "            return;\n",
       "        }\n",
       "\n",
       "        var msg = JSON.parse(evt.data);\n",
       "        var msg_type = msg['type'];\n",
       "\n",
       "        // Call the  \"handle_{type}\" callback, which takes\n",
       "        // the figure and JSON message as its only arguments.\n",
       "        try {\n",
       "            var callback = fig[\"handle_\" + msg_type];\n",
       "        } catch (e) {\n",
       "            console.log(\"No handler for the '\" + msg_type + \"' message type: \", msg);\n",
       "            return;\n",
       "        }\n",
       "\n",
       "        if (callback) {\n",
       "            try {\n",
       "                // console.log(\"Handling '\" + msg_type + \"' message: \", msg);\n",
       "                callback(fig, msg);\n",
       "            } catch (e) {\n",
       "                console.log(\"Exception inside the 'handler_\" + msg_type + \"' callback:\", e, e.stack, msg);\n",
       "            }\n",
       "        }\n",
       "    };\n",
       "}\n",
       "\n",
       "// from http://stackoverflow.com/questions/1114465/getting-mouse-location-in-canvas\n",
       "mpl.findpos = function(e) {\n",
       "    //this section is from http://www.quirksmode.org/js/events_properties.html\n",
       "    var targ;\n",
       "    if (!e)\n",
       "        e = window.event;\n",
       "    if (e.target)\n",
       "        targ = e.target;\n",
       "    else if (e.srcElement)\n",
       "        targ = e.srcElement;\n",
       "    if (targ.nodeType == 3) // defeat Safari bug\n",
       "        targ = targ.parentNode;\n",
       "\n",
       "    // jQuery normalizes the pageX and pageY\n",
       "    // pageX,Y are the mouse positions relative to the document\n",
       "    // offset() returns the position of the element relative to the document\n",
       "    var x = e.pageX - $(targ).offset().left;\n",
       "    var y = e.pageY - $(targ).offset().top;\n",
       "\n",
       "    return {\"x\": x, \"y\": y};\n",
       "};\n",
       "\n",
       "/*\n",
       " * return a copy of an object with only non-object keys\n",
       " * we need this to avoid circular references\n",
       " * http://stackoverflow.com/a/24161582/3208463\n",
       " */\n",
       "function simpleKeys (original) {\n",
       "  return Object.keys(original).reduce(function (obj, key) {\n",
       "    if (typeof original[key] !== 'object')\n",
       "        obj[key] = original[key]\n",
       "    return obj;\n",
       "  }, {});\n",
       "}\n",
       "\n",
       "mpl.figure.prototype.mouse_event = function(event, name) {\n",
       "    var canvas_pos = mpl.findpos(event)\n",
       "\n",
       "    if (name === 'button_press')\n",
       "    {\n",
       "        this.canvas.focus();\n",
       "        this.canvas_div.focus();\n",
       "    }\n",
       "\n",
       "    var x = canvas_pos.x * mpl.ratio;\n",
       "    var y = canvas_pos.y * mpl.ratio;\n",
       "\n",
       "    this.send_message(name, {x: x, y: y, button: event.button,\n",
       "                             step: event.step,\n",
       "                             guiEvent: simpleKeys(event)});\n",
       "\n",
       "    /* This prevents the web browser from automatically changing to\n",
       "     * the text insertion cursor when the button is pressed.  We want\n",
       "     * to control all of the cursor setting manually through the\n",
       "     * 'cursor' event from matplotlib */\n",
       "    event.preventDefault();\n",
       "    return false;\n",
       "}\n",
       "\n",
       "mpl.figure.prototype._key_event_extra = function(event, name) {\n",
       "    // Handle any extra behaviour associated with a key event\n",
       "}\n",
       "\n",
       "mpl.figure.prototype.key_event = function(event, name) {\n",
       "\n",
       "    // Prevent repeat events\n",
       "    if (name == 'key_press')\n",
       "    {\n",
       "        if (event.which === this._key)\n",
       "            return;\n",
       "        else\n",
       "            this._key = event.which;\n",
       "    }\n",
       "    if (name == 'key_release')\n",
       "        this._key = null;\n",
       "\n",
       "    var value = '';\n",
       "    if (event.ctrlKey && event.which != 17)\n",
       "        value += \"ctrl+\";\n",
       "    if (event.altKey && event.which != 18)\n",
       "        value += \"alt+\";\n",
       "    if (event.shiftKey && event.which != 16)\n",
       "        value += \"shift+\";\n",
       "\n",
       "    value += 'k';\n",
       "    value += event.which.toString();\n",
       "\n",
       "    this._key_event_extra(event, name);\n",
       "\n",
       "    this.send_message(name, {key: value,\n",
       "                             guiEvent: simpleKeys(event)});\n",
       "    return false;\n",
       "}\n",
       "\n",
       "mpl.figure.prototype.toolbar_button_onclick = function(name) {\n",
       "    if (name == 'download') {\n",
       "        this.handle_save(this, null);\n",
       "    } else {\n",
       "        this.send_message(\"toolbar_button\", {name: name});\n",
       "    }\n",
       "};\n",
       "\n",
       "mpl.figure.prototype.toolbar_button_onmouseover = function(tooltip) {\n",
       "    this.message.textContent = tooltip;\n",
       "};\n",
       "mpl.toolbar_items = [[\"Home\", \"Reset original view\", \"fa fa-home icon-home\", \"home\"], [\"Back\", \"Back to previous view\", \"fa fa-arrow-left icon-arrow-left\", \"back\"], [\"Forward\", \"Forward to next view\", \"fa fa-arrow-right icon-arrow-right\", \"forward\"], [\"\", \"\", \"\", \"\"], [\"Pan\", \"Pan axes with left mouse, zoom with right\", \"fa fa-arrows icon-move\", \"pan\"], [\"Zoom\", \"Zoom to rectangle\", \"fa fa-square-o icon-check-empty\", \"zoom\"], [\"\", \"\", \"\", \"\"], [\"Download\", \"Download plot\", \"fa fa-floppy-o icon-save\", \"download\"]];\n",
       "\n",
       "mpl.extensions = [\"eps\", \"jpeg\", \"pdf\", \"png\", \"ps\", \"raw\", \"svg\", \"tif\"];\n",
       "\n",
       "mpl.default_extension = \"png\";var comm_websocket_adapter = function(comm) {\n",
       "    // Create a \"websocket\"-like object which calls the given IPython comm\n",
       "    // object with the appropriate methods. Currently this is a non binary\n",
       "    // socket, so there is still some room for performance tuning.\n",
       "    var ws = {};\n",
       "\n",
       "    ws.close = function() {\n",
       "        comm.close()\n",
       "    };\n",
       "    ws.send = function(m) {\n",
       "        //console.log('sending', m);\n",
       "        comm.send(m);\n",
       "    };\n",
       "    // Register the callback with on_msg.\n",
       "    comm.on_msg(function(msg) {\n",
       "        //console.log('receiving', msg['content']['data'], msg);\n",
       "        // Pass the mpl event to the overridden (by mpl) onmessage function.\n",
       "        ws.onmessage(msg['content']['data'])\n",
       "    });\n",
       "    return ws;\n",
       "}\n",
       "\n",
       "mpl.mpl_figure_comm = function(comm, msg) {\n",
       "    // This is the function which gets called when the mpl process\n",
       "    // starts-up an IPython Comm through the \"matplotlib\" channel.\n",
       "\n",
       "    var id = msg.content.data.id;\n",
       "    // Get hold of the div created by the display call when the Comm\n",
       "    // socket was opened in Python.\n",
       "    var element = $(\"#\" + id);\n",
       "    var ws_proxy = comm_websocket_adapter(comm)\n",
       "\n",
       "    function ondownload(figure, format) {\n",
       "        window.open(figure.imageObj.src);\n",
       "    }\n",
       "\n",
       "    var fig = new mpl.figure(id, ws_proxy,\n",
       "                           ondownload,\n",
       "                           element.get(0));\n",
       "\n",
       "    // Call onopen now - mpl needs it, as it is assuming we've passed it a real\n",
       "    // web socket which is closed, not our websocket->open comm proxy.\n",
       "    ws_proxy.onopen();\n",
       "\n",
       "    fig.parent_element = element.get(0);\n",
       "    fig.cell_info = mpl.find_output_cell(\"<div id='\" + id + \"'></div>\");\n",
       "    if (!fig.cell_info) {\n",
       "        console.error(\"Failed to find cell for figure\", id, fig);\n",
       "        return;\n",
       "    }\n",
       "\n",
       "    var output_index = fig.cell_info[2]\n",
       "    var cell = fig.cell_info[0];\n",
       "\n",
       "};\n",
       "\n",
       "mpl.figure.prototype.handle_close = function(fig, msg) {\n",
       "    var width = fig.canvas.width/mpl.ratio\n",
       "    fig.root.unbind('remove')\n",
       "\n",
       "    // Update the output cell to use the data from the current canvas.\n",
       "    fig.push_to_output();\n",
       "    var dataURL = fig.canvas.toDataURL();\n",
       "    // Re-enable the keyboard manager in IPython - without this line, in FF,\n",
       "    // the notebook keyboard shortcuts fail.\n",
       "    IPython.keyboard_manager.enable()\n",
       "    $(fig.parent_element).html('<img src=\"' + dataURL + '\" width=\"' + width + '\">');\n",
       "    fig.close_ws(fig, msg);\n",
       "}\n",
       "\n",
       "mpl.figure.prototype.close_ws = function(fig, msg){\n",
       "    fig.send_message('closing', msg);\n",
       "    // fig.ws.close()\n",
       "}\n",
       "\n",
       "mpl.figure.prototype.push_to_output = function(remove_interactive) {\n",
       "    // Turn the data on the canvas into data in the output cell.\n",
       "    var width = this.canvas.width/mpl.ratio\n",
       "    var dataURL = this.canvas.toDataURL();\n",
       "    this.cell_info[1]['text/html'] = '<img src=\"' + dataURL + '\" width=\"' + width + '\">';\n",
       "}\n",
       "\n",
       "mpl.figure.prototype.updated_canvas_event = function() {\n",
       "    // Tell IPython that the notebook contents must change.\n",
       "    IPython.notebook.set_dirty(true);\n",
       "    this.send_message(\"ack\", {});\n",
       "    var fig = this;\n",
       "    // Wait a second, then push the new image to the DOM so\n",
       "    // that it is saved nicely (might be nice to debounce this).\n",
       "    setTimeout(function () { fig.push_to_output() }, 1000);\n",
       "}\n",
       "\n",
       "mpl.figure.prototype._init_toolbar = function() {\n",
       "    var fig = this;\n",
       "\n",
       "    var nav_element = $('<div/>')\n",
       "    nav_element.attr('style', 'width: 100%');\n",
       "    this.root.append(nav_element);\n",
       "\n",
       "    // Define a callback function for later on.\n",
       "    function toolbar_event(event) {\n",
       "        return fig.toolbar_button_onclick(event['data']);\n",
       "    }\n",
       "    function toolbar_mouse_event(event) {\n",
       "        return fig.toolbar_button_onmouseover(event['data']);\n",
       "    }\n",
       "\n",
       "    for(var toolbar_ind in mpl.toolbar_items){\n",
       "        var name = mpl.toolbar_items[toolbar_ind][0];\n",
       "        var tooltip = mpl.toolbar_items[toolbar_ind][1];\n",
       "        var image = mpl.toolbar_items[toolbar_ind][2];\n",
       "        var method_name = mpl.toolbar_items[toolbar_ind][3];\n",
       "\n",
       "        if (!name) { continue; };\n",
       "\n",
       "        var button = $('<button class=\"btn btn-default\" href=\"#\" title=\"' + name + '\"><i class=\"fa ' + image + ' fa-lg\"></i></button>');\n",
       "        button.click(method_name, toolbar_event);\n",
       "        button.mouseover(tooltip, toolbar_mouse_event);\n",
       "        nav_element.append(button);\n",
       "    }\n",
       "\n",
       "    // Add the status bar.\n",
       "    var status_bar = $('<span class=\"mpl-message\" style=\"text-align:right; float: right;\"/>');\n",
       "    nav_element.append(status_bar);\n",
       "    this.message = status_bar[0];\n",
       "\n",
       "    // Add the close button to the window.\n",
       "    var buttongrp = $('<div class=\"btn-group inline pull-right\"></div>');\n",
       "    var button = $('<button class=\"btn btn-mini btn-primary\" href=\"#\" title=\"Stop Interaction\"><i class=\"fa fa-power-off icon-remove icon-large\"></i></button>');\n",
       "    button.click(function (evt) { fig.handle_close(fig, {}); } );\n",
       "    button.mouseover('Stop Interaction', toolbar_mouse_event);\n",
       "    buttongrp.append(button);\n",
       "    var titlebar = this.root.find($('.ui-dialog-titlebar'));\n",
       "    titlebar.prepend(buttongrp);\n",
       "}\n",
       "\n",
       "mpl.figure.prototype._root_extra_style = function(el){\n",
       "    var fig = this\n",
       "    el.on(\"remove\", function(){\n",
       "\tfig.close_ws(fig, {});\n",
       "    });\n",
       "}\n",
       "\n",
       "mpl.figure.prototype._canvas_extra_style = function(el){\n",
       "    // this is important to make the div 'focusable\n",
       "    el.attr('tabindex', 0)\n",
       "    // reach out to IPython and tell the keyboard manager to turn it's self\n",
       "    // off when our div gets focus\n",
       "\n",
       "    // location in version 3\n",
       "    if (IPython.notebook.keyboard_manager) {\n",
       "        IPython.notebook.keyboard_manager.register_events(el);\n",
       "    }\n",
       "    else {\n",
       "        // location in version 2\n",
       "        IPython.keyboard_manager.register_events(el);\n",
       "    }\n",
       "\n",
       "}\n",
       "\n",
       "mpl.figure.prototype._key_event_extra = function(event, name) {\n",
       "    var manager = IPython.notebook.keyboard_manager;\n",
       "    if (!manager)\n",
       "        manager = IPython.keyboard_manager;\n",
       "\n",
       "    // Check for shift+enter\n",
       "    if (event.shiftKey && event.which == 13) {\n",
       "        this.canvas_div.blur();\n",
       "        event.shiftKey = false;\n",
       "        // Send a \"J\" for go to next cell\n",
       "        event.which = 74;\n",
       "        event.keyCode = 74;\n",
       "        manager.command_mode();\n",
       "        manager.handle_keydown(event);\n",
       "    }\n",
       "}\n",
       "\n",
       "mpl.figure.prototype.handle_save = function(fig, msg) {\n",
       "    fig.ondownload(fig, null);\n",
       "}\n",
       "\n",
       "\n",
       "mpl.find_output_cell = function(html_output) {\n",
       "    // Return the cell and output element which can be found *uniquely* in the notebook.\n",
       "    // Note - this is a bit hacky, but it is done because the \"notebook_saving.Notebook\"\n",
       "    // IPython event is triggered only after the cells have been serialised, which for\n",
       "    // our purposes (turning an active figure into a static one), is too late.\n",
       "    var cells = IPython.notebook.get_cells();\n",
       "    var ncells = cells.length;\n",
       "    for (var i=0; i<ncells; i++) {\n",
       "        var cell = cells[i];\n",
       "        if (cell.cell_type === 'code'){\n",
       "            for (var j=0; j<cell.output_area.outputs.length; j++) {\n",
       "                var data = cell.output_area.outputs[j];\n",
       "                if (data.data) {\n",
       "                    // IPython >= 3 moved mimebundle to data attribute of output\n",
       "                    data = data.data;\n",
       "                }\n",
       "                if (data['text/html'] == html_output) {\n",
       "                    return [cell, data, j];\n",
       "                }\n",
       "            }\n",
       "        }\n",
       "    }\n",
       "}\n",
       "\n",
       "// Register the function which deals with the matplotlib target/channel.\n",
       "// The kernel may be null if the page has been refreshed.\n",
       "if (IPython.notebook.kernel != null) {\n",
       "    IPython.notebook.kernel.comm_manager.register_target('matplotlib', mpl.mpl_figure_comm);\n",
       "}\n"
      ],
      "text/plain": [
       "<IPython.core.display.Javascript object>"
      ]
     },
     "metadata": {},
     "output_type": "display_data"
    },
    {
     "data": {
      "text/html": [
       "<img src=\"data:image/png;base64,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\" width=\"572\">"
      ],
      "text/plain": [
       "<IPython.core.display.HTML object>"
      ]
     },
     "metadata": {},
     "output_type": "display_data"
    }
   ],
   "source": [
    "# Dispersion plot\n",
    "\n",
    "# source: Inaugural Address Corpus\n",
    "text4.dispersion_plot([\"citizens\", \"democracy\", \"duty\", \"freedom\", \"America\"])"
   ]
  }
 ],
 "metadata": {
  "kernelspec": {
   "display_name": "Python 3",
   "language": "python",
   "name": "python3"
  },
  "language_info": {
   "codemirror_mode": {
    "name": "ipython",
    "version": 3
   },
   "file_extension": ".py",
   "mimetype": "text/x-python",
   "name": "python",
   "nbconvert_exporter": "python",
   "pygments_lexer": "ipython3",
   "version": "3.7.3"
  }
 },
 "nbformat": 4,
 "nbformat_minor": 2
}
