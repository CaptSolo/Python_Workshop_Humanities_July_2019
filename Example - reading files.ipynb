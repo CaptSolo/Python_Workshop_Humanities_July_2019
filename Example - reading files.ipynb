{
 "cells": [
  {
   "cell_type": "markdown",
   "metadata": {},
   "source": [
    "### Example - Reading files"
   ]
  },
  {
   "cell_type": "code",
   "execution_count": 1,
   "metadata": {},
   "outputs": [],
   "source": [
    "import nltk"
   ]
  },
  {
   "cell_type": "code",
   "execution_count": 2,
   "metadata": {},
   "outputs": [
    {
     "data": {
      "text/plain": [
       "\"Riga is the capital, the largest and primate city of Latvia. With 632614 inhabitants (2019), it is also the largest city in the three Baltic states, home to one third of Latvia's population and one tenth of the three Baltic states' combined population. The city lies on the Gulf of Riga at the mouth of the Daugava river where it meets the Baltic Sea. Riga's territory covers 307.17 km2 (118.60 sq mi) and lies 1–10 m (3 ft 3 in–32 ft 10 in) above sea level, on a flat and sandy plain.\\n\\nRiga was founded in 1201 and is a former Hanseatic League member. Riga's historical centre is a UNESCO World Heritage Site, noted for its Art Nouveau/Jugendstil architecture and 19th century wooden architecture. Riga was the European Capital of Culture during 2014, along with Umeå in Sweden. Riga hosted the 2006 NATO Summit, the Eurovision Song Contest 2003, the 2006 IIHF Men's World Ice Hockey Championships and the 2013 World Women's Curling Championship. It is home to the European Union's office of European Regulators for Electronic Communications (BEREC).\\n\\nIn 2016, Riga received over 1.4 million visitors. The city is served by Riga International Airport, the largest and busiest airport in the Baltic states. Riga is a member of Eurocities, the Union of the Baltic Cities (UBC) and Union of Capitals of the European Union (UCEU).\\n\""
      ]
     },
     "execution_count": 2,
     "metadata": {},
     "output_type": "execute_result"
    }
   ],
   "source": [
    "# https://www.nltk.org/book/ch03#reading-local-files\n",
    "\n",
    "filename = \"data/riga-wikipedia.txt\"\n",
    "\n",
    "with open(filename) as f:\n",
    "    raw = f.read()\n",
    "    \n",
    "raw"
   ]
  },
  {
   "cell_type": "code",
   "execution_count": 3,
   "metadata": {},
   "outputs": [
    {
     "data": {
      "text/plain": [
       "['Riga',\n",
       " 'is',\n",
       " 'the',\n",
       " 'capital,',\n",
       " 'the',\n",
       " 'largest',\n",
       " 'and',\n",
       " 'primate',\n",
       " 'city',\n",
       " 'of']"
      ]
     },
     "execution_count": 3,
     "metadata": {},
     "output_type": "execute_result"
    }
   ],
   "source": [
    "tokens = [word.strip() for word in raw.split()]\n",
    "\n",
    "tokens[:10]"
   ]
  },
  {
   "cell_type": "code",
   "execution_count": 4,
   "metadata": {},
   "outputs": [
    {
     "name": "stdout",
     "output_type": "stream",
     "text": [
      "Displaying 8 of 8 matches:\n",
      " Riga is the capital, the largest and prim\n",
      "lation. The city lies on the Gulf of Riga at the mouth of the Daugava river wh\n",
      "ea level, on a flat and sandy plain. Riga was founded in 1201 and is a former \n",
      "nd 19th century wooden architecture. Riga was the European Capital of Culture \n",
      "ing 2014, along with Umeå in Sweden. Riga hosted the 2006 NATO Summit, the Eur\n",
      "nic Communications (BEREC). In 2016, Riga received over 1.4 million visitors. \n",
      "lion visitors. The city is served by Riga International Airport, the largest a\n",
      "usiest airport in the Baltic states. Riga is a member of Eurocities, the Union\n"
     ]
    }
   ],
   "source": [
    "import nltk\n",
    "data = nltk.Text(tokens)\n",
    "\n",
    "data.concordance('Riga')"
   ]
  }
 ],
 "metadata": {
  "kernelspec": {
   "display_name": "Python 3",
   "language": "python",
   "name": "python3"
  },
  "language_info": {
   "codemirror_mode": {
    "name": "ipython",
    "version": 3
   },
   "file_extension": ".py",
   "mimetype": "text/x-python",
   "name": "python",
   "nbconvert_exporter": "python",
   "pygments_lexer": "ipython3",
   "version": "3.7.4"
  }
 },
 "nbformat": 4,
 "nbformat_minor": 2
}
